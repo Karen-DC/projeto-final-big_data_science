{
 "cells": [
  {
   "cell_type": "markdown",
   "id": "e7542642",
   "metadata": {},
   "source": [
    "## Projeto Final - Big Data Science\n",
    "\n",
    "Este notebook tem por objetivo a análise dos microdados do Enem 2021, tendo como foco a comparação do desempenho entre pessoas oriundas de escola pública e privada.\n",
    "\n",
    "Autora: Karen Dantas C.\n"
   ]
  },
  {
   "cell_type": "code",
   "execution_count": 1,
   "id": "379cb469",
   "metadata": {},
   "outputs": [],
   "source": [
    "\n",
    "import pandas as pd\n",
    "import seaborn as sns\n"
   ]
  },
  {
   "cell_type": "markdown",
   "id": "f79feb01",
   "metadata": {},
   "source": [
    "<h3> Leitura dos dados </h3>"
   ]
  },
  {
   "cell_type": "code",
   "execution_count": 2,
   "id": "f3eaae86",
   "metadata": {},
   "outputs": [
    {
     "data": {
      "text/html": [
       "<div>\n",
       "<style scoped>\n",
       "    .dataframe tbody tr th:only-of-type {\n",
       "        vertical-align: middle;\n",
       "    }\n",
       "\n",
       "    .dataframe tbody tr th {\n",
       "        vertical-align: top;\n",
       "    }\n",
       "\n",
       "    .dataframe thead th {\n",
       "        text-align: right;\n",
       "    }\n",
       "</style>\n",
       "<table border=\"1\" class=\"dataframe\">\n",
       "  <thead>\n",
       "    <tr style=\"text-align: right;\">\n",
       "      <th></th>\n",
       "      <th>TP_FAIXA_ETARIA</th>\n",
       "      <th>TP_SEXO</th>\n",
       "      <th>TP_COR_RACA</th>\n",
       "      <th>TP_NACIONALIDADE</th>\n",
       "      <th>TP_ST_CONCLUSAO</th>\n",
       "      <th>TP_ESCOLA</th>\n",
       "      <th>SG_UF_PROVA</th>\n",
       "      <th>NU_NOTA_CN</th>\n",
       "      <th>NU_NOTA_CH</th>\n",
       "      <th>NU_NOTA_LC</th>\n",
       "      <th>NU_NOTA_MT</th>\n",
       "      <th>NU_NOTA_REDACAO</th>\n",
       "    </tr>\n",
       "  </thead>\n",
       "  <tbody>\n",
       "    <tr>\n",
       "      <th>0</th>\n",
       "      <td>5</td>\n",
       "      <td>F</td>\n",
       "      <td>1</td>\n",
       "      <td>1</td>\n",
       "      <td>1</td>\n",
       "      <td>1</td>\n",
       "      <td>MG</td>\n",
       "      <td>NaN</td>\n",
       "      <td>574.6</td>\n",
       "      <td>472.6</td>\n",
       "      <td>NaN</td>\n",
       "      <td>760.0</td>\n",
       "    </tr>\n",
       "    <tr>\n",
       "      <th>1</th>\n",
       "      <td>12</td>\n",
       "      <td>M</td>\n",
       "      <td>1</td>\n",
       "      <td>1</td>\n",
       "      <td>1</td>\n",
       "      <td>1</td>\n",
       "      <td>AL</td>\n",
       "      <td>505.9</td>\n",
       "      <td>551.8</td>\n",
       "      <td>498.3</td>\n",
       "      <td>461.5</td>\n",
       "      <td>560.0</td>\n",
       "    </tr>\n",
       "    <tr>\n",
       "      <th>2</th>\n",
       "      <td>13</td>\n",
       "      <td>F</td>\n",
       "      <td>1</td>\n",
       "      <td>1</td>\n",
       "      <td>1</td>\n",
       "      <td>1</td>\n",
       "      <td>SP</td>\n",
       "      <td>NaN</td>\n",
       "      <td>NaN</td>\n",
       "      <td>NaN</td>\n",
       "      <td>NaN</td>\n",
       "      <td>NaN</td>\n",
       "    </tr>\n",
       "    <tr>\n",
       "      <th>3</th>\n",
       "      <td>3</td>\n",
       "      <td>M</td>\n",
       "      <td>3</td>\n",
       "      <td>1</td>\n",
       "      <td>2</td>\n",
       "      <td>2</td>\n",
       "      <td>CE</td>\n",
       "      <td>580.7</td>\n",
       "      <td>678.9</td>\n",
       "      <td>638.9</td>\n",
       "      <td>659.5</td>\n",
       "      <td>780.0</td>\n",
       "    </tr>\n",
       "    <tr>\n",
       "      <th>4</th>\n",
       "      <td>2</td>\n",
       "      <td>F</td>\n",
       "      <td>3</td>\n",
       "      <td>1</td>\n",
       "      <td>2</td>\n",
       "      <td>2</td>\n",
       "      <td>CE</td>\n",
       "      <td>497.7</td>\n",
       "      <td>532.4</td>\n",
       "      <td>457.6</td>\n",
       "      <td>582.6</td>\n",
       "      <td>780.0</td>\n",
       "    </tr>\n",
       "  </tbody>\n",
       "</table>\n",
       "</div>"
      ],
      "text/plain": [
       "   TP_FAIXA_ETARIA TP_SEXO  TP_COR_RACA  TP_NACIONALIDADE  TP_ST_CONCLUSAO  \\\n",
       "0                5       F            1                 1                1   \n",
       "1               12       M            1                 1                1   \n",
       "2               13       F            1                 1                1   \n",
       "3                3       M            3                 1                2   \n",
       "4                2       F            3                 1                2   \n",
       "\n",
       "   TP_ESCOLA SG_UF_PROVA  NU_NOTA_CN  NU_NOTA_CH  NU_NOTA_LC  NU_NOTA_MT  \\\n",
       "0          1          MG         NaN       574.6       472.6         NaN   \n",
       "1          1          AL       505.9       551.8       498.3       461.5   \n",
       "2          1          SP         NaN         NaN         NaN         NaN   \n",
       "3          2          CE       580.7       678.9       638.9       659.5   \n",
       "4          2          CE       497.7       532.4       457.6       582.6   \n",
       "\n",
       "   NU_NOTA_REDACAO  \n",
       "0            760.0  \n",
       "1            560.0  \n",
       "2              NaN  \n",
       "3            780.0  \n",
       "4            780.0  "
      ]
     },
     "execution_count": 2,
     "metadata": {},
     "output_type": "execute_result"
    }
   ],
   "source": [
    "\n",
    "df = pd.read_csv(\"MICRODADOS_ENEM_2021.csv\", sep=';', usecols=['TP_ST_CONCLUSAO','TP_ESCOLA','SG_UF_PROVA',\n",
    "                                                               'NU_NOTA_CN','NU_NOTA_CH','NU_NOTA_LC',\n",
    "                                                               'NU_NOTA_MT','NU_NOTA_REDACAO','TP_FAIXA_ETARIA','TP_SEXO',\n",
    "                                                               'TP_COR_RACA','TP_NACIONALIDADE'])\n",
    "df.head()\n"
   ]
  },
  {
   "cell_type": "code",
   "execution_count": 3,
   "id": "6b4f847c",
   "metadata": {},
   "outputs": [
    {
     "data": {
      "text/plain": [
       "TP_FAIXA_ETARIA     3389832\n",
       "TP_SEXO             3389832\n",
       "TP_COR_RACA         3389832\n",
       "TP_NACIONALIDADE    3389832\n",
       "TP_ST_CONCLUSAO     3389832\n",
       "TP_ESCOLA           3389832\n",
       "SG_UF_PROVA         3389832\n",
       "NU_NOTA_CN          2245844\n",
       "NU_NOTA_CH          2378379\n",
       "NU_NOTA_LC          2378379\n",
       "NU_NOTA_MT          2245844\n",
       "NU_NOTA_REDACAO     2378379\n",
       "dtype: int64"
      ]
     },
     "execution_count": 3,
     "metadata": {},
     "output_type": "execute_result"
    }
   ],
   "source": [
    "\n",
    "df.count()\n"
   ]
  },
  {
   "cell_type": "markdown",
   "id": "d6cca18f",
   "metadata": {},
   "source": [
    "<h3> Limpeza dos dados </h3>"
   ]
  },
  {
   "cell_type": "code",
   "execution_count": 4,
   "id": "4962855e",
   "metadata": {},
   "outputs": [
    {
     "data": {
      "text/plain": [
       "TP_FAIXA_ETARIA           0\n",
       "TP_SEXO                   0\n",
       "TP_COR_RACA               0\n",
       "TP_NACIONALIDADE          0\n",
       "TP_ST_CONCLUSAO           0\n",
       "TP_ESCOLA                 0\n",
       "SG_UF_PROVA               0\n",
       "NU_NOTA_CN          1143988\n",
       "NU_NOTA_CH          1011453\n",
       "NU_NOTA_LC          1011453\n",
       "NU_NOTA_MT          1143988\n",
       "NU_NOTA_REDACAO     1011453\n",
       "dtype: int64"
      ]
     },
     "execution_count": 4,
     "metadata": {},
     "output_type": "execute_result"
    }
   ],
   "source": [
    "\n",
    "df.isnull().sum()\n"
   ]
  },
  {
   "cell_type": "code",
   "execution_count": 5,
   "id": "e89ebe7d",
   "metadata": {},
   "outputs": [
    {
     "data": {
      "text/plain": [
       "TP_FAIXA_ETARIA     0\n",
       "TP_SEXO             0\n",
       "TP_COR_RACA         0\n",
       "TP_NACIONALIDADE    0\n",
       "TP_ST_CONCLUSAO     0\n",
       "TP_ESCOLA           0\n",
       "SG_UF_PROVA         0\n",
       "NU_NOTA_CN          0\n",
       "NU_NOTA_CH          0\n",
       "NU_NOTA_LC          0\n",
       "NU_NOTA_MT          0\n",
       "NU_NOTA_REDACAO     0\n",
       "dtype: int64"
      ]
     },
     "execution_count": 5,
     "metadata": {},
     "output_type": "execute_result"
    }
   ],
   "source": [
    "#Deletar registros com valores nulos\n",
    "\n",
    "df = df.dropna()\n",
    "df.isnull().sum()\n",
    "    "
   ]
  },
  {
   "cell_type": "code",
   "execution_count": 6,
   "id": "c163b2eb",
   "metadata": {},
   "outputs": [
    {
     "data": {
      "text/plain": [
       "TP_FAIXA_ETARIA     2238107\n",
       "TP_SEXO             2238107\n",
       "TP_COR_RACA         2238107\n",
       "TP_NACIONALIDADE    2238107\n",
       "TP_ST_CONCLUSAO     2238107\n",
       "TP_ESCOLA           2238107\n",
       "SG_UF_PROVA         2238107\n",
       "NU_NOTA_CN          2238107\n",
       "NU_NOTA_CH          2238107\n",
       "NU_NOTA_LC          2238107\n",
       "NU_NOTA_MT          2238107\n",
       "NU_NOTA_REDACAO     2238107\n",
       "dtype: int64"
      ]
     },
     "execution_count": 6,
     "metadata": {},
     "output_type": "execute_result"
    }
   ],
   "source": [
    "\n",
    "df.count()\n"
   ]
  },
  {
   "cell_type": "code",
   "execution_count": 7,
   "id": "8c0c561d",
   "metadata": {},
   "outputs": [
    {
     "data": {
      "text/html": [
       "<div>\n",
       "<style scoped>\n",
       "    .dataframe tbody tr th:only-of-type {\n",
       "        vertical-align: middle;\n",
       "    }\n",
       "\n",
       "    .dataframe tbody tr th {\n",
       "        vertical-align: top;\n",
       "    }\n",
       "\n",
       "    .dataframe thead th {\n",
       "        text-align: right;\n",
       "    }\n",
       "</style>\n",
       "<table border=\"1\" class=\"dataframe\">\n",
       "  <thead>\n",
       "    <tr style=\"text-align: right;\">\n",
       "      <th></th>\n",
       "      <th>TP_FAIXA_ETARIA</th>\n",
       "      <th>TP_SEXO</th>\n",
       "      <th>TP_COR_RACA</th>\n",
       "      <th>TP_NACIONALIDADE</th>\n",
       "      <th>TP_ST_CONCLUSAO</th>\n",
       "      <th>TP_ESCOLA</th>\n",
       "      <th>SG_UF_PROVA</th>\n",
       "      <th>NU_NOTA_CN</th>\n",
       "      <th>NU_NOTA_CH</th>\n",
       "      <th>NU_NOTA_LC</th>\n",
       "      <th>NU_NOTA_MT</th>\n",
       "      <th>NU_NOTA_REDACAO</th>\n",
       "    </tr>\n",
       "  </thead>\n",
       "  <tbody>\n",
       "    <tr>\n",
       "      <th>1</th>\n",
       "      <td>12</td>\n",
       "      <td>M</td>\n",
       "      <td>1</td>\n",
       "      <td>1</td>\n",
       "      <td>1</td>\n",
       "      <td>1</td>\n",
       "      <td>AL</td>\n",
       "      <td>505.9</td>\n",
       "      <td>551.8</td>\n",
       "      <td>498.3</td>\n",
       "      <td>461.5</td>\n",
       "      <td>560.0</td>\n",
       "    </tr>\n",
       "    <tr>\n",
       "      <th>3</th>\n",
       "      <td>3</td>\n",
       "      <td>M</td>\n",
       "      <td>3</td>\n",
       "      <td>1</td>\n",
       "      <td>2</td>\n",
       "      <td>2</td>\n",
       "      <td>CE</td>\n",
       "      <td>580.7</td>\n",
       "      <td>678.9</td>\n",
       "      <td>638.9</td>\n",
       "      <td>659.5</td>\n",
       "      <td>780.0</td>\n",
       "    </tr>\n",
       "    <tr>\n",
       "      <th>4</th>\n",
       "      <td>2</td>\n",
       "      <td>F</td>\n",
       "      <td>3</td>\n",
       "      <td>1</td>\n",
       "      <td>2</td>\n",
       "      <td>2</td>\n",
       "      <td>CE</td>\n",
       "      <td>497.7</td>\n",
       "      <td>532.4</td>\n",
       "      <td>457.6</td>\n",
       "      <td>582.6</td>\n",
       "      <td>780.0</td>\n",
       "    </tr>\n",
       "    <tr>\n",
       "      <th>8</th>\n",
       "      <td>8</td>\n",
       "      <td>F</td>\n",
       "      <td>3</td>\n",
       "      <td>1</td>\n",
       "      <td>2</td>\n",
       "      <td>2</td>\n",
       "      <td>MG</td>\n",
       "      <td>487.4</td>\n",
       "      <td>476.5</td>\n",
       "      <td>450.7</td>\n",
       "      <td>493.4</td>\n",
       "      <td>520.0</td>\n",
       "    </tr>\n",
       "    <tr>\n",
       "      <th>9</th>\n",
       "      <td>4</td>\n",
       "      <td>F</td>\n",
       "      <td>3</td>\n",
       "      <td>1</td>\n",
       "      <td>2</td>\n",
       "      <td>2</td>\n",
       "      <td>BA</td>\n",
       "      <td>507.6</td>\n",
       "      <td>539.2</td>\n",
       "      <td>494.6</td>\n",
       "      <td>413.3</td>\n",
       "      <td>380.0</td>\n",
       "    </tr>\n",
       "  </tbody>\n",
       "</table>\n",
       "</div>"
      ],
      "text/plain": [
       "   TP_FAIXA_ETARIA TP_SEXO  TP_COR_RACA  TP_NACIONALIDADE  TP_ST_CONCLUSAO  \\\n",
       "1               12       M            1                 1                1   \n",
       "3                3       M            3                 1                2   \n",
       "4                2       F            3                 1                2   \n",
       "8                8       F            3                 1                2   \n",
       "9                4       F            3                 1                2   \n",
       "\n",
       "   TP_ESCOLA SG_UF_PROVA  NU_NOTA_CN  NU_NOTA_CH  NU_NOTA_LC  NU_NOTA_MT  \\\n",
       "1          1          AL       505.9       551.8       498.3       461.5   \n",
       "3          2          CE       580.7       678.9       638.9       659.5   \n",
       "4          2          CE       497.7       532.4       457.6       582.6   \n",
       "8          2          MG       487.4       476.5       450.7       493.4   \n",
       "9          2          BA       507.6       539.2       494.6       413.3   \n",
       "\n",
       "   NU_NOTA_REDACAO  \n",
       "1            560.0  \n",
       "3            780.0  \n",
       "4            780.0  \n",
       "8            520.0  \n",
       "9            380.0  "
      ]
     },
     "execution_count": 7,
     "metadata": {},
     "output_type": "execute_result"
    }
   ],
   "source": [
    "\n",
    "df.head()\n"
   ]
  },
  {
   "cell_type": "code",
   "execution_count": 8,
   "id": "eb8bbd2a",
   "metadata": {},
   "outputs": [],
   "source": [
    "#Selecionar as pessoas que já concluíram o ensino médio, ou que estavam cursando o ensino médio e concluiriam em 2021\n",
    "\n",
    "filtro_ensino_medio = ((df['TP_ST_CONCLUSAO'] == 1) | (df['TP_ST_CONCLUSAO'] == 2))\n",
    "\n",
    "df = df[filtro_ensino_medio]\n"
   ]
  },
  {
   "cell_type": "code",
   "execution_count": 9,
   "id": "dab54051",
   "metadata": {},
   "outputs": [
    {
     "data": {
      "text/plain": [
       "TP_FAIXA_ETARIA     1864224\n",
       "TP_SEXO             1864224\n",
       "TP_COR_RACA         1864224\n",
       "TP_NACIONALIDADE    1864224\n",
       "TP_ST_CONCLUSAO     1864224\n",
       "TP_ESCOLA           1864224\n",
       "SG_UF_PROVA         1864224\n",
       "NU_NOTA_CN          1864224\n",
       "NU_NOTA_CH          1864224\n",
       "NU_NOTA_LC          1864224\n",
       "NU_NOTA_MT          1864224\n",
       "NU_NOTA_REDACAO     1864224\n",
       "dtype: int64"
      ]
     },
     "execution_count": 9,
     "metadata": {},
     "output_type": "execute_result"
    }
   ],
   "source": [
    "\n",
    "df.count()\n"
   ]
  },
  {
   "cell_type": "code",
   "execution_count": 10,
   "id": "3c6d9435",
   "metadata": {},
   "outputs": [],
   "source": [
    "#Excluir as pessoas que não informaram se são de escola particular ou pública\n",
    "\n",
    "filtro_escola = (df['TP_ESCOLA'] != 1)\n",
    "dados = df[filtro_escola].copy()\n"
   ]
  },
  {
   "cell_type": "code",
   "execution_count": 11,
   "id": "6e69ae2f",
   "metadata": {
    "scrolled": false
   },
   "outputs": [
    {
     "data": {
      "text/plain": [
       "TP_FAIXA_ETARIA     847397\n",
       "TP_SEXO             847397\n",
       "TP_COR_RACA         847397\n",
       "TP_NACIONALIDADE    847397\n",
       "TP_ST_CONCLUSAO     847397\n",
       "TP_ESCOLA           847397\n",
       "SG_UF_PROVA         847397\n",
       "NU_NOTA_CN          847397\n",
       "NU_NOTA_CH          847397\n",
       "NU_NOTA_LC          847397\n",
       "NU_NOTA_MT          847397\n",
       "NU_NOTA_REDACAO     847397\n",
       "dtype: int64"
      ]
     },
     "execution_count": 11,
     "metadata": {},
     "output_type": "execute_result"
    }
   ],
   "source": [
    "\n",
    "dados.count()\n"
   ]
  },
  {
   "cell_type": "markdown",
   "id": "e4863bc8",
   "metadata": {},
   "source": [
    "<h3> Análise - Estatística Descritiva </h3>"
   ]
  },
  {
   "cell_type": "markdown",
   "id": "98ea7375",
   "metadata": {},
   "source": [
    "Em relação aos dados, estão sendo consideradas as pessoas que:\n",
    "* Já concluíram o ensino médio, ou que estavam cursando o ensino médio e concluiriam em 2021;\n",
    "* Informaram se cursaram o ensino médio em escola pública ou privada;\n",
    "* Fizeram todas as provas do Enem 2021 (Linguagens, Códigos e suas tecnologias; Redação; Ciências Humanas e suas tecnologias; Ciências da Natureza e suas tecnologias; Matemática e suas tecnologias)."
   ]
  },
  {
   "cell_type": "code",
   "execution_count": 12,
   "id": "be8221f2",
   "metadata": {},
   "outputs": [],
   "source": [
    "\n",
    "dados[\"TP_ESCOLA\"] = dados[\"TP_ESCOLA\"].map({ 2 : 'Pública', 3 : 'Privada'})\n"
   ]
  },
  {
   "cell_type": "code",
   "execution_count": 13,
   "id": "5f5bad0d",
   "metadata": {},
   "outputs": [],
   "source": [
    "\n",
    "dados[\"TP_FAIXA_ETARIA\"] = dados[\"TP_FAIXA_ETARIA\"].map({ 1 : 'Menor de 17 anos', 2 : '17 anos', 3 : '18 anos', \n",
    "                                                         4 : '19 anos', 5 : '20 anos', 6 : '21 anos', 7 : '22 anos',\n",
    "                                                        8 : '23 anos', 9 : '24 anos', 10 : '25 anos', \n",
    "                                                         11 : 'Entre 26 e 30 anos', 12 : 'Entre 31 e 35 anos',\n",
    "                                                         13 : 'Entre 36 e 40 anos', 14 : 'Entre 41 e 45 anos',\n",
    "                                                         15 : 'Entre 46 e 50 anos', 16: 'Entre 51 e 55 anos',\n",
    "                                                         17 : 'Entre 56 e 60 anos', 18 : 'Entre 61 e 65 anos',\n",
    "                                                         19 : 'Entre 66 e 70 anos', 20 : 'Maior de 70 anos'})\n"
   ]
  },
  {
   "cell_type": "code",
   "execution_count": 14,
   "id": "d6a662f1",
   "metadata": {},
   "outputs": [],
   "source": [
    "\n",
    "dados[\"TP_SEXO\"] = dados[\"TP_SEXO\"].map({ 'F' : 'Feminino', 'M' : 'Masculino'}) \n"
   ]
  },
  {
   "cell_type": "code",
   "execution_count": 15,
   "id": "72d251c5",
   "metadata": {},
   "outputs": [],
   "source": [
    "\n",
    "dados[\"TP_COR_RACA\"] = dados[\"TP_COR_RACA\"].map({ 0 : 'Não declarado', 1 : 'Branca', 2 : 'Preta', 3 : 'Parda', \n",
    "                                                 4 : 'Amarela', 5 : 'Indígena', 6 : 'Não dispõe da informação'}) \n"
   ]
  },
  {
   "cell_type": "code",
   "execution_count": 16,
   "id": "1e02e994",
   "metadata": {},
   "outputs": [],
   "source": [
    "\n",
    "dados[\"TP_NACIONALIDADE\"] = dados[\"TP_NACIONALIDADE\"].map({ 0 : 'Não informado', 1 : 'Brasileiro(a)', \n",
    "                                                           2 : 'Brasileiro(a) Naturalizado(a)', 3 : 'Estrangeiro(a)', \n",
    "                                                           4 : 'Brasileiro(a) Nato(a), nascido(a) no exterior'}) \n"
   ]
  },
  {
   "cell_type": "code",
   "execution_count": 17,
   "id": "89c084ef",
   "metadata": {
    "scrolled": true
   },
   "outputs": [
    {
     "data": {
      "text/html": [
       "<div>\n",
       "<style scoped>\n",
       "    .dataframe tbody tr th:only-of-type {\n",
       "        vertical-align: middle;\n",
       "    }\n",
       "\n",
       "    .dataframe tbody tr th {\n",
       "        vertical-align: top;\n",
       "    }\n",
       "\n",
       "    .dataframe thead th {\n",
       "        text-align: right;\n",
       "    }\n",
       "</style>\n",
       "<table border=\"1\" class=\"dataframe\">\n",
       "  <thead>\n",
       "    <tr style=\"text-align: right;\">\n",
       "      <th></th>\n",
       "      <th>TP_FAIXA_ETARIA</th>\n",
       "      <th>TP_SEXO</th>\n",
       "      <th>TP_COR_RACA</th>\n",
       "      <th>TP_NACIONALIDADE</th>\n",
       "      <th>TP_ST_CONCLUSAO</th>\n",
       "      <th>TP_ESCOLA</th>\n",
       "      <th>SG_UF_PROVA</th>\n",
       "      <th>NU_NOTA_CN</th>\n",
       "      <th>NU_NOTA_CH</th>\n",
       "      <th>NU_NOTA_LC</th>\n",
       "      <th>NU_NOTA_MT</th>\n",
       "      <th>NU_NOTA_REDACAO</th>\n",
       "    </tr>\n",
       "  </thead>\n",
       "  <tbody>\n",
       "    <tr>\n",
       "      <th>3</th>\n",
       "      <td>18 anos</td>\n",
       "      <td>Masculino</td>\n",
       "      <td>Parda</td>\n",
       "      <td>Brasileiro(a)</td>\n",
       "      <td>2</td>\n",
       "      <td>Pública</td>\n",
       "      <td>CE</td>\n",
       "      <td>580.7</td>\n",
       "      <td>678.9</td>\n",
       "      <td>638.9</td>\n",
       "      <td>659.5</td>\n",
       "      <td>780.0</td>\n",
       "    </tr>\n",
       "    <tr>\n",
       "      <th>4</th>\n",
       "      <td>17 anos</td>\n",
       "      <td>Feminino</td>\n",
       "      <td>Parda</td>\n",
       "      <td>Brasileiro(a)</td>\n",
       "      <td>2</td>\n",
       "      <td>Pública</td>\n",
       "      <td>CE</td>\n",
       "      <td>497.7</td>\n",
       "      <td>532.4</td>\n",
       "      <td>457.6</td>\n",
       "      <td>582.6</td>\n",
       "      <td>780.0</td>\n",
       "    </tr>\n",
       "    <tr>\n",
       "      <th>8</th>\n",
       "      <td>23 anos</td>\n",
       "      <td>Feminino</td>\n",
       "      <td>Parda</td>\n",
       "      <td>Brasileiro(a)</td>\n",
       "      <td>2</td>\n",
       "      <td>Pública</td>\n",
       "      <td>MG</td>\n",
       "      <td>487.4</td>\n",
       "      <td>476.5</td>\n",
       "      <td>450.7</td>\n",
       "      <td>493.4</td>\n",
       "      <td>520.0</td>\n",
       "    </tr>\n",
       "    <tr>\n",
       "      <th>9</th>\n",
       "      <td>19 anos</td>\n",
       "      <td>Feminino</td>\n",
       "      <td>Parda</td>\n",
       "      <td>Brasileiro(a)</td>\n",
       "      <td>2</td>\n",
       "      <td>Pública</td>\n",
       "      <td>BA</td>\n",
       "      <td>507.6</td>\n",
       "      <td>539.2</td>\n",
       "      <td>494.6</td>\n",
       "      <td>413.3</td>\n",
       "      <td>380.0</td>\n",
       "    </tr>\n",
       "    <tr>\n",
       "      <th>11</th>\n",
       "      <td>17 anos</td>\n",
       "      <td>Feminino</td>\n",
       "      <td>Branca</td>\n",
       "      <td>Brasileiro(a)</td>\n",
       "      <td>2</td>\n",
       "      <td>Pública</td>\n",
       "      <td>RN</td>\n",
       "      <td>378.5</td>\n",
       "      <td>502.7</td>\n",
       "      <td>487.7</td>\n",
       "      <td>514.9</td>\n",
       "      <td>680.0</td>\n",
       "    </tr>\n",
       "  </tbody>\n",
       "</table>\n",
       "</div>"
      ],
      "text/plain": [
       "   TP_FAIXA_ETARIA    TP_SEXO TP_COR_RACA TP_NACIONALIDADE  TP_ST_CONCLUSAO  \\\n",
       "3          18 anos  Masculino       Parda    Brasileiro(a)                2   \n",
       "4          17 anos   Feminino       Parda    Brasileiro(a)                2   \n",
       "8          23 anos   Feminino       Parda    Brasileiro(a)                2   \n",
       "9          19 anos   Feminino       Parda    Brasileiro(a)                2   \n",
       "11         17 anos   Feminino      Branca    Brasileiro(a)                2   \n",
       "\n",
       "   TP_ESCOLA SG_UF_PROVA  NU_NOTA_CN  NU_NOTA_CH  NU_NOTA_LC  NU_NOTA_MT  \\\n",
       "3    Pública          CE       580.7       678.9       638.9       659.5   \n",
       "4    Pública          CE       497.7       532.4       457.6       582.6   \n",
       "8    Pública          MG       487.4       476.5       450.7       493.4   \n",
       "9    Pública          BA       507.6       539.2       494.6       413.3   \n",
       "11   Pública          RN       378.5       502.7       487.7       514.9   \n",
       "\n",
       "    NU_NOTA_REDACAO  \n",
       "3             780.0  \n",
       "4             780.0  \n",
       "8             520.0  \n",
       "9             380.0  \n",
       "11            680.0  "
      ]
     },
     "execution_count": 17,
     "metadata": {},
     "output_type": "execute_result"
    }
   ],
   "source": [
    "\n",
    "dados.head()\n"
   ]
  },
  {
   "cell_type": "markdown",
   "id": "57a6bb0f",
   "metadata": {},
   "source": [
    "<h4> Análise das características gerais da amostra </h4>"
   ]
  },
  {
   "cell_type": "code",
   "execution_count": 18,
   "id": "66b756e6",
   "metadata": {},
   "outputs": [
    {
     "name": "stdout",
     "output_type": "stream",
     "text": [
      "\n",
      "Gráfico:\n"
     ]
    },
    {
     "data": {
      "image/png": "[encoded data removed]",
      "text/plain": [
       "<Figure size 640x480 with 1 Axes>"
      ]
     },
     "metadata": {},
     "output_type": "display_data"
    }
   ],
   "source": [
    "\n",
    "tipo_escola = dados['TP_ESCOLA'].value_counts(normalize=True)\n",
    "tipo_escola.plot(kind='pie', autopct='%.2f%%', title='Tipo de Escola')\n",
    "print(\"\\nGráfico:\")\n"
   ]
  },
  {
   "cell_type": "code",
   "execution_count": 19,
   "id": "ddda1aae",
   "metadata": {},
   "outputs": [
    {
     "name": "stdout",
     "output_type": "stream",
     "text": [
      "\n",
      "Gráfico:\n"
     ]
    },
    {
     "data": {
      "image/png": "[encoded data removed]",
      "text/plain": [
       "<Figure size 640x480 with 1 Axes>"
      ]
     },
     "metadata": {},
     "output_type": "display_data"
    }
   ],
   "source": [
    "\n",
    "sexo_inscrito = dados['TP_SEXO'].value_counts(normalize=True)\n",
    "sexo_inscrito.plot(kind='pie', autopct='%.2f%%', title='Sexo')\n",
    "print(\"\\nGráfico:\")\n"
   ]
  },
  {
   "cell_type": "code",
   "execution_count": 20,
   "id": "7a281e11",
   "metadata": {},
   "outputs": [
    {
     "name": "stdout",
     "output_type": "stream",
     "text": [
      "Cor/Raça         Frequência relativa(%):\n"
     ]
    },
    {
     "data": {
      "text/plain": [
       "Branca           45.30\n",
       "Parda            39.98\n",
       "Preta            10.18\n",
       "Não declarado     2.10\n",
       "Amarela           1.97\n",
       "Indígena          0.48\n",
       "Name: TP_COR_RACA, dtype: float64"
      ]
     },
     "execution_count": 20,
     "metadata": {},
     "output_type": "execute_result"
    }
   ],
   "source": [
    "\n",
    "cor_raca = round(dados['TP_COR_RACA'].value_counts(normalize=True)*100,2)\n",
    "print('Cor/Raça         Frequência relativa(%):')\n",
    "cor_raca \n"
   ]
  },
  {
   "cell_type": "code",
   "execution_count": 21,
   "id": "21e2292f",
   "metadata": {},
   "outputs": [
    {
     "name": "stdout",
     "output_type": "stream",
     "text": [
      "\n",
      "Gráfico:\n"
     ]
    },
    {
     "data": {
      "image/png": "[encoded data removed]",
      "text/plain": [
       "<Figure size 640x480 with 1 Axes>"
      ]
     },
     "metadata": {},
     "output_type": "display_data"
    }
   ],
   "source": [
    "\n",
    "cor_raca.plot(kind='bar', title='Cor/Raça', ylabel='(em %)')\n",
    "print(\"\\nGráfico:\")\n"
   ]
  },
  {
   "cell_type": "code",
   "execution_count": 22,
   "id": "5a7e6af9",
   "metadata": {},
   "outputs": [
    {
     "name": "stdout",
     "output_type": "stream",
     "text": [
      "UF    Frequência relativa(%):\n"
     ]
    },
    {
     "data": {
      "text/plain": [
       "SP    17.35\n",
       "MG     8.71\n",
       "CE     8.29\n",
       "BA     7.54\n",
       "RJ     6.94\n",
       "PE     5.39\n",
       "PR     5.26\n",
       "RS     4.54\n",
       "GO     4.38\n",
       "PA     3.91\n",
       "MA     3.13\n",
       "SC     3.04\n",
       "AM     2.53\n",
       "PB     2.45\n",
       "ES     2.12\n",
       "DF     2.07\n",
       "PI     2.01\n",
       "RN     1.94\n",
       "MT     1.55\n",
       "AL     1.41\n",
       "MS     1.35\n",
       "SE     1.34\n",
       "TO     0.87\n",
       "RO     0.83\n",
       "AC     0.43\n",
       "AP     0.43\n",
       "RR     0.19\n",
       "Name: SG_UF_PROVA, dtype: float64"
      ]
     },
     "execution_count": 22,
     "metadata": {},
     "output_type": "execute_result"
    }
   ],
   "source": [
    "\n",
    "uf_prova = round(dados['SG_UF_PROVA'].value_counts(normalize=True)*100,2)\n",
    "print('UF    Frequência relativa(%):')\n",
    "uf_prova\n"
   ]
  },
  {
   "cell_type": "code",
   "execution_count": 23,
   "id": "47e5c8c0",
   "metadata": {},
   "outputs": [
    {
     "name": "stdout",
     "output_type": "stream",
     "text": [
      "\n",
      "Gráfico:\n"
     ]
    },
    {
     "data": {
      "image/png": "[encoded data removed]",
      "text/plain": [
       "<Figure size 640x480 with 1 Axes>"
      ]
     },
     "metadata": {},
     "output_type": "display_data"
    }
   ],
   "source": [
    "\n",
    "uf_prova.plot(kind='bar', title='UF da Prova', ylabel='(em %)')\n",
    "print(\"\\nGráfico:\")\n"
   ]
  },
  {
   "cell_type": "code",
   "execution_count": 24,
   "id": "b233efa3",
   "metadata": {},
   "outputs": [
    {
     "name": "stdout",
     "output_type": "stream",
     "text": [
      "Faixa etária          Frequência relativa(%):\n"
     ]
    },
    {
     "data": {
      "text/plain": [
       "17 anos               44.826\n",
       "18 anos               42.479\n",
       "19 anos                7.492\n",
       "20 anos                2.100\n",
       "Menor de 17 anos       1.186\n",
       "21 anos                0.641\n",
       "22 anos                0.265\n",
       "Entre 26 e 30 anos     0.237\n",
       "Entre 31 e 35 anos     0.147\n",
       "23 anos                0.142\n",
       "Entre 36 e 40 anos     0.110\n",
       "24 anos                0.104\n",
       "Entre 41 e 45 anos     0.076\n",
       "25 anos                0.074\n",
       "Entre 46 e 50 anos     0.056\n",
       "Entre 51 e 55 anos     0.035\n",
       "Entre 56 e 60 anos     0.019\n",
       "Entre 61 e 65 anos     0.007\n",
       "Entre 66 e 70 anos     0.002\n",
       "Maior de 70 anos       0.001\n",
       "Name: TP_FAIXA_ETARIA, dtype: float64"
      ]
     },
     "execution_count": 24,
     "metadata": {},
     "output_type": "execute_result"
    }
   ],
   "source": [
    "\n",
    "faixa_etaria = round(dados['TP_FAIXA_ETARIA'].value_counts(normalize=True)*100,3)\n",
    "print('Faixa etária          Frequência relativa(%):')\n",
    "faixa_etaria\n"
   ]
  },
  {
   "cell_type": "code",
   "execution_count": 25,
   "id": "59d7be80",
   "metadata": {},
   "outputs": [
    {
     "name": "stdout",
     "output_type": "stream",
     "text": [
      "Nacionalidade                                    Frequência relativa(%):\n"
     ]
    },
    {
     "data": {
      "text/plain": [
       "Brasileiro(a)                                    97.55\n",
       "Brasileiro(a) Naturalizado(a)                     1.97\n",
       "Brasileiro(a) Nato(a), nascido(a) no exterior     0.24\n",
       "Estrangeiro(a)                                    0.13\n",
       "Não informado                                     0.11\n",
       "Name: TP_NACIONALIDADE, dtype: float64"
      ]
     },
     "execution_count": 25,
     "metadata": {},
     "output_type": "execute_result"
    }
   ],
   "source": [
    "\n",
    "nacionalidade = round(dados['TP_NACIONALIDADE'].value_counts(normalize=True)*100,2)\n",
    "print('Nacionalidade                                    Frequência relativa(%):')\n",
    "nacionalidade\n"
   ]
  },
  {
   "cell_type": "markdown",
   "id": "9206d5aa",
   "metadata": {},
   "source": [
    "<h4> Análise geral das notas </h4>"
   ]
  },
  {
   "cell_type": "code",
   "execution_count": 26,
   "id": "649eebb2",
   "metadata": {},
   "outputs": [],
   "source": [
    "\n",
    "notas = ['NU_NOTA_CN','NU_NOTA_CH','NU_NOTA_LC','NU_NOTA_MT','NU_NOTA_REDACAO']\n"
   ]
  },
  {
   "cell_type": "code",
   "execution_count": 27,
   "id": "791d968b",
   "metadata": {
    "scrolled": true
   },
   "outputs": [
    {
     "data": {
      "text/html": [
       "<div>\n",
       "<style scoped>\n",
       "    .dataframe tbody tr th:only-of-type {\n",
       "        vertical-align: middle;\n",
       "    }\n",
       "\n",
       "    .dataframe tbody tr th {\n",
       "        vertical-align: top;\n",
       "    }\n",
       "\n",
       "    .dataframe thead th {\n",
       "        text-align: right;\n",
       "    }\n",
       "</style>\n",
       "<table border=\"1\" class=\"dataframe\">\n",
       "  <thead>\n",
       "    <tr style=\"text-align: right;\">\n",
       "      <th></th>\n",
       "      <th>count</th>\n",
       "      <th>mean</th>\n",
       "      <th>std</th>\n",
       "      <th>min</th>\n",
       "      <th>25%</th>\n",
       "      <th>50%</th>\n",
       "      <th>75%</th>\n",
       "      <th>max</th>\n",
       "    </tr>\n",
       "  </thead>\n",
       "  <tbody>\n",
       "    <tr>\n",
       "      <th>NU_NOTA_CN</th>\n",
       "      <td>847397.0</td>\n",
       "      <td>484.17</td>\n",
       "      <td>77.90</td>\n",
       "      <td>0.0</td>\n",
       "      <td>424.9</td>\n",
       "      <td>474.3</td>\n",
       "      <td>536.7</td>\n",
       "      <td>848.7</td>\n",
       "    </tr>\n",
       "    <tr>\n",
       "      <th>NU_NOTA_CH</th>\n",
       "      <td>847397.0</td>\n",
       "      <td>513.07</td>\n",
       "      <td>90.80</td>\n",
       "      <td>0.0</td>\n",
       "      <td>441.9</td>\n",
       "      <td>513.1</td>\n",
       "      <td>579.4</td>\n",
       "      <td>846.9</td>\n",
       "    </tr>\n",
       "    <tr>\n",
       "      <th>NU_NOTA_LC</th>\n",
       "      <td>847397.0</td>\n",
       "      <td>498.15</td>\n",
       "      <td>76.14</td>\n",
       "      <td>0.0</td>\n",
       "      <td>444.8</td>\n",
       "      <td>500.7</td>\n",
       "      <td>552.2</td>\n",
       "      <td>820.5</td>\n",
       "    </tr>\n",
       "    <tr>\n",
       "      <th>NU_NOTA_MT</th>\n",
       "      <td>847397.0</td>\n",
       "      <td>529.69</td>\n",
       "      <td>107.63</td>\n",
       "      <td>0.0</td>\n",
       "      <td>441.9</td>\n",
       "      <td>509.1</td>\n",
       "      <td>605.7</td>\n",
       "      <td>953.1</td>\n",
       "    </tr>\n",
       "    <tr>\n",
       "      <th>NU_NOTA_REDACAO</th>\n",
       "      <td>847397.0</td>\n",
       "      <td>615.04</td>\n",
       "      <td>189.22</td>\n",
       "      <td>0.0</td>\n",
       "      <td>520.0</td>\n",
       "      <td>600.0</td>\n",
       "      <td>740.0</td>\n",
       "      <td>1000.0</td>\n",
       "    </tr>\n",
       "  </tbody>\n",
       "</table>\n",
       "</div>"
      ],
      "text/plain": [
       "                    count    mean     std  min    25%    50%    75%     max\n",
       "NU_NOTA_CN       847397.0  484.17   77.90  0.0  424.9  474.3  536.7   848.7\n",
       "NU_NOTA_CH       847397.0  513.07   90.80  0.0  441.9  513.1  579.4   846.9\n",
       "NU_NOTA_LC       847397.0  498.15   76.14  0.0  444.8  500.7  552.2   820.5\n",
       "NU_NOTA_MT       847397.0  529.69  107.63  0.0  441.9  509.1  605.7   953.1\n",
       "NU_NOTA_REDACAO  847397.0  615.04  189.22  0.0  520.0  600.0  740.0  1000.0"
      ]
     },
     "execution_count": 27,
     "metadata": {},
     "output_type": "execute_result"
    }
   ],
   "source": [
    "\n",
    "dados[notas].describe().round(2).T\n"
   ]
  },
  {
   "cell_type": "code",
   "execution_count": 28,
   "id": "54fd9ae4",
   "metadata": {},
   "outputs": [
    {
     "name": "stdout",
     "output_type": "stream",
     "text": [
      "\n",
      "Boxplot:\n",
      "\n"
     ]
    },
    {
     "data": {
      "image/png": "[encoded data removed]",
      "text/plain": [
       "<Figure size 640x480 with 1 Axes>"
      ]
     },
     "metadata": {},
     "output_type": "display_data"
    }
   ],
   "source": [
    "\n",
    "lista_ticks=list(range(0,1100,100))\n",
    "\n",
    "sns.set_style(\"whitegrid\")\n",
    "\n",
    "grafico = sns.boxplot(data=dados[notas], orient='h')\n",
    "grafico.set(xlabel='Nota', ylabel='Prova', title='Desempenho geral nas provas', xticks=lista_ticks)\n",
    "print(\"\\nBoxplot:\\n\")\n"
   ]
  },
  {
   "cell_type": "markdown",
   "id": "f4982fd2",
   "metadata": {},
   "source": [
    "<h4> Análise comparativa das notas considerando origem de escola pública ou privada </h4>"
   ]
  },
  {
   "cell_type": "code",
   "execution_count": 29,
   "id": "cd25c445",
   "metadata": {},
   "outputs": [],
   "source": [
    "\n",
    "filtro_publica = (dados['TP_ESCOLA'] == 'Pública')\n",
    "dados_publica = dados[filtro_publica].copy()\n"
   ]
  },
  {
   "cell_type": "code",
   "execution_count": 30,
   "id": "2e02456b",
   "metadata": {},
   "outputs": [
    {
     "name": "stdout",
     "output_type": "stream",
     "text": [
      "\n",
      "Escola pública:\n"
     ]
    },
    {
     "data": {
      "text/html": [
       "<div>\n",
       "<style scoped>\n",
       "    .dataframe tbody tr th:only-of-type {\n",
       "        vertical-align: middle;\n",
       "    }\n",
       "\n",
       "    .dataframe tbody tr th {\n",
       "        vertical-align: top;\n",
       "    }\n",
       "\n",
       "    .dataframe thead th {\n",
       "        text-align: right;\n",
       "    }\n",
       "</style>\n",
       "<table border=\"1\" class=\"dataframe\">\n",
       "  <thead>\n",
       "    <tr style=\"text-align: right;\">\n",
       "      <th></th>\n",
       "      <th>count</th>\n",
       "      <th>mean</th>\n",
       "      <th>std</th>\n",
       "      <th>min</th>\n",
       "      <th>25%</th>\n",
       "      <th>50%</th>\n",
       "      <th>75%</th>\n",
       "      <th>max</th>\n",
       "    </tr>\n",
       "  </thead>\n",
       "  <tbody>\n",
       "    <tr>\n",
       "      <th>NU_NOTA_CN</th>\n",
       "      <td>668036.0</td>\n",
       "      <td>469.46</td>\n",
       "      <td>69.43</td>\n",
       "      <td>0.0</td>\n",
       "      <td>417.3</td>\n",
       "      <td>461.4</td>\n",
       "      <td>514.6</td>\n",
       "      <td>848.7</td>\n",
       "    </tr>\n",
       "    <tr>\n",
       "      <th>NU_NOTA_CH</th>\n",
       "      <td>668036.0</td>\n",
       "      <td>498.44</td>\n",
       "      <td>85.23</td>\n",
       "      <td>0.0</td>\n",
       "      <td>432.2</td>\n",
       "      <td>496.0</td>\n",
       "      <td>561.3</td>\n",
       "      <td>846.9</td>\n",
       "    </tr>\n",
       "    <tr>\n",
       "      <th>NU_NOTA_LC</th>\n",
       "      <td>668036.0</td>\n",
       "      <td>485.26</td>\n",
       "      <td>72.38</td>\n",
       "      <td>0.0</td>\n",
       "      <td>434.1</td>\n",
       "      <td>487.8</td>\n",
       "      <td>536.8</td>\n",
       "      <td>820.5</td>\n",
       "    </tr>\n",
       "    <tr>\n",
       "      <th>NU_NOTA_MT</th>\n",
       "      <td>668036.0</td>\n",
       "      <td>508.64</td>\n",
       "      <td>95.32</td>\n",
       "      <td>0.0</td>\n",
       "      <td>433.1</td>\n",
       "      <td>488.9</td>\n",
       "      <td>571.5</td>\n",
       "      <td>953.1</td>\n",
       "    </tr>\n",
       "    <tr>\n",
       "      <th>NU_NOTA_REDACAO</th>\n",
       "      <td>668036.0</td>\n",
       "      <td>583.28</td>\n",
       "      <td>185.20</td>\n",
       "      <td>0.0</td>\n",
       "      <td>500.0</td>\n",
       "      <td>580.0</td>\n",
       "      <td>680.0</td>\n",
       "      <td>1000.0</td>\n",
       "    </tr>\n",
       "  </tbody>\n",
       "</table>\n",
       "</div>"
      ],
      "text/plain": [
       "                    count    mean     std  min    25%    50%    75%     max\n",
       "NU_NOTA_CN       668036.0  469.46   69.43  0.0  417.3  461.4  514.6   848.7\n",
       "NU_NOTA_CH       668036.0  498.44   85.23  0.0  432.2  496.0  561.3   846.9\n",
       "NU_NOTA_LC       668036.0  485.26   72.38  0.0  434.1  487.8  536.8   820.5\n",
       "NU_NOTA_MT       668036.0  508.64   95.32  0.0  433.1  488.9  571.5   953.1\n",
       "NU_NOTA_REDACAO  668036.0  583.28  185.20  0.0  500.0  580.0  680.0  1000.0"
      ]
     },
     "execution_count": 30,
     "metadata": {},
     "output_type": "execute_result"
    }
   ],
   "source": [
    "\n",
    "print(\"\\nEscola pública:\")\n",
    "dados_publica[notas].describe().round(2).T\n"
   ]
  },
  {
   "cell_type": "code",
   "execution_count": 31,
   "id": "346cb579",
   "metadata": {},
   "outputs": [],
   "source": [
    "\n",
    "filtro_privada = (dados['TP_ESCOLA'] == 'Privada')\n",
    "dados_privada = dados[filtro_privada].copy()\n"
   ]
  },
  {
   "cell_type": "code",
   "execution_count": 32,
   "id": "fc173f7b",
   "metadata": {},
   "outputs": [
    {
     "name": "stdout",
     "output_type": "stream",
     "text": [
      "\n",
      "Escola privada:\n"
     ]
    },
    {
     "data": {
      "text/html": [
       "<div>\n",
       "<style scoped>\n",
       "    .dataframe tbody tr th:only-of-type {\n",
       "        vertical-align: middle;\n",
       "    }\n",
       "\n",
       "    .dataframe tbody tr th {\n",
       "        vertical-align: top;\n",
       "    }\n",
       "\n",
       "    .dataframe thead th {\n",
       "        text-align: right;\n",
       "    }\n",
       "</style>\n",
       "<table border=\"1\" class=\"dataframe\">\n",
       "  <thead>\n",
       "    <tr style=\"text-align: right;\">\n",
       "      <th></th>\n",
       "      <th>count</th>\n",
       "      <th>mean</th>\n",
       "      <th>std</th>\n",
       "      <th>min</th>\n",
       "      <th>25%</th>\n",
       "      <th>50%</th>\n",
       "      <th>75%</th>\n",
       "      <th>max</th>\n",
       "    </tr>\n",
       "  </thead>\n",
       "  <tbody>\n",
       "    <tr>\n",
       "      <th>NU_NOTA_CN</th>\n",
       "      <td>179361.0</td>\n",
       "      <td>538.99</td>\n",
       "      <td>83.08</td>\n",
       "      <td>0.0</td>\n",
       "      <td>477.2</td>\n",
       "      <td>542.5</td>\n",
       "      <td>598.9</td>\n",
       "      <td>844.5</td>\n",
       "    </tr>\n",
       "    <tr>\n",
       "      <th>NU_NOTA_CH</th>\n",
       "      <td>179361.0</td>\n",
       "      <td>567.55</td>\n",
       "      <td>90.16</td>\n",
       "      <td>0.0</td>\n",
       "      <td>510.5</td>\n",
       "      <td>577.3</td>\n",
       "      <td>630.3</td>\n",
       "      <td>846.9</td>\n",
       "    </tr>\n",
       "    <tr>\n",
       "      <th>NU_NOTA_LC</th>\n",
       "      <td>179361.0</td>\n",
       "      <td>546.16</td>\n",
       "      <td>70.41</td>\n",
       "      <td>0.0</td>\n",
       "      <td>502.2</td>\n",
       "      <td>551.8</td>\n",
       "      <td>595.4</td>\n",
       "      <td>799.3</td>\n",
       "    </tr>\n",
       "    <tr>\n",
       "      <th>NU_NOTA_MT</th>\n",
       "      <td>179361.0</td>\n",
       "      <td>608.09</td>\n",
       "      <td>114.45</td>\n",
       "      <td>0.0</td>\n",
       "      <td>519.5</td>\n",
       "      <td>615.6</td>\n",
       "      <td>691.5</td>\n",
       "      <td>953.1</td>\n",
       "    </tr>\n",
       "    <tr>\n",
       "      <th>NU_NOTA_REDACAO</th>\n",
       "      <td>179361.0</td>\n",
       "      <td>733.34</td>\n",
       "      <td>153.80</td>\n",
       "      <td>0.0</td>\n",
       "      <td>620.0</td>\n",
       "      <td>740.0</td>\n",
       "      <td>860.0</td>\n",
       "      <td>1000.0</td>\n",
       "    </tr>\n",
       "  </tbody>\n",
       "</table>\n",
       "</div>"
      ],
      "text/plain": [
       "                    count    mean     std  min    25%    50%    75%     max\n",
       "NU_NOTA_CN       179361.0  538.99   83.08  0.0  477.2  542.5  598.9   844.5\n",
       "NU_NOTA_CH       179361.0  567.55   90.16  0.0  510.5  577.3  630.3   846.9\n",
       "NU_NOTA_LC       179361.0  546.16   70.41  0.0  502.2  551.8  595.4   799.3\n",
       "NU_NOTA_MT       179361.0  608.09  114.45  0.0  519.5  615.6  691.5   953.1\n",
       "NU_NOTA_REDACAO  179361.0  733.34  153.80  0.0  620.0  740.0  860.0  1000.0"
      ]
     },
     "execution_count": 32,
     "metadata": {},
     "output_type": "execute_result"
    }
   ],
   "source": [
    "\n",
    "print(\"\\nEscola privada:\")\n",
    "dados_privada[notas].describe().round(2).T\n"
   ]
  },
  {
   "cell_type": "code",
   "execution_count": 33,
   "id": "68beb033",
   "metadata": {},
   "outputs": [
    {
     "name": "stdout",
     "output_type": "stream",
     "text": [
      "\n",
      "Prova de Ciências da Natureza e suas tecnologias:\n",
      "\n"
     ]
    },
    {
     "data": {
      "image/png": "[encoded data removed]",
      "text/plain": [
       "<Figure size 640x480 with 1 Axes>"
      ]
     },
     "metadata": {},
     "output_type": "display_data"
    }
   ],
   "source": [
    "\n",
    "grafico = sns.boxplot(y=\"NU_NOTA_CN\", x=\"TP_ESCOLA\", data=dados)\n",
    "grafico.set(xlabel='Tipo de escola', ylabel='Nota', title='Ciências da Natureza e suas tecnologias', yticks=lista_ticks)\n",
    "print(\"\\nProva de Ciências da Natureza e suas tecnologias:\\n\")\n"
   ]
  },
  {
   "cell_type": "code",
   "execution_count": 34,
   "id": "9ef89752",
   "metadata": {},
   "outputs": [
    {
     "name": "stdout",
     "output_type": "stream",
     "text": [
      "\n",
      "Prova de Ciências Humanas e suas tecnologias:\n",
      "\n"
     ]
    },
    {
     "data": {
      "image/png": "[encoded data removed]",
      "text/plain": [
       "<Figure size 640x480 with 1 Axes>"
      ]
     },
     "metadata": {},
     "output_type": "display_data"
    }
   ],
   "source": [
    "\n",
    "grafico = sns.boxplot(y=\"NU_NOTA_CH\", x=\"TP_ESCOLA\", data=dados)\n",
    "grafico.set(xlabel='Tipo de escola', ylabel='Nota', title='Ciências Humanas e suas tecnologias', yticks=lista_ticks)\n",
    "print(\"\\nProva de Ciências Humanas e suas tecnologias:\\n\")\n"
   ]
  },
  {
   "cell_type": "code",
   "execution_count": 35,
   "id": "e1fe5908",
   "metadata": {},
   "outputs": [
    {
     "name": "stdout",
     "output_type": "stream",
     "text": [
      "\n",
      "Prova de Linguagens, Códigos e suas tecnologias:\n",
      "\n"
     ]
    },
    {
     "data": {
      "image/png": "[encoded data removed]",
      "text/plain": [
       "<Figure size 640x480 with 1 Axes>"
      ]
     },
     "metadata": {},
     "output_type": "display_data"
    }
   ],
   "source": [
    "\n",
    "grafico = sns.boxplot(y=\"NU_NOTA_LC\", x=\"TP_ESCOLA\", data=dados)\n",
    "grafico.set(xlabel='Tipo de escola', ylabel='Nota', title='Linguagens, Códigos e suas tecnologias', yticks=lista_ticks)\n",
    "print(\"\\nProva de Linguagens, Códigos e suas tecnologias:\\n\")\n"
   ]
  },
  {
   "cell_type": "code",
   "execution_count": 36,
   "id": "f1a75354",
   "metadata": {},
   "outputs": [
    {
     "name": "stdout",
     "output_type": "stream",
     "text": [
      "\n",
      "Prova de Matemática e suas tecnologias:\n",
      "\n"
     ]
    },
    {
     "data": {
      "image/png": "[encoded data removed]",
      "text/plain": [
       "<Figure size 640x480 with 1 Axes>"
      ]
     },
     "metadata": {},
     "output_type": "display_data"
    }
   ],
   "source": [
    "\n",
    "grafico = sns.boxplot(y=\"NU_NOTA_MT\", x=\"TP_ESCOLA\", data=dados)\n",
    "grafico.set(xlabel='Tipo de escola', ylabel='Nota', title='Matemática e suas tecnologias', yticks=lista_ticks)\n",
    "print(\"\\nProva de Matemática e suas tecnologias:\\n\")\n"
   ]
  },
  {
   "cell_type": "code",
   "execution_count": 37,
   "id": "daabb1eb",
   "metadata": {},
   "outputs": [
    {
     "name": "stdout",
     "output_type": "stream",
     "text": [
      "\n",
      "Prova de Redação:\n",
      "\n"
     ]
    },
    {
     "data": {
      "image/png": "[encoded data removed]",
      "text/plain": [
       "<Figure size 640x480 with 1 Axes>"
      ]
     },
     "metadata": {},
     "output_type": "display_data"
    }
   ],
   "source": [
    "\n",
    "grafico = sns.boxplot(y=\"NU_NOTA_REDACAO\", x=\"TP_ESCOLA\", data=dados)\n",
    "grafico.set(xlabel='Tipo de escola', ylabel='Nota', title='Redação', yticks=lista_ticks)\n",
    "print(\"\\nProva de Redação:\\n\")\n"
   ]
  },
  {
   "cell_type": "code",
   "execution_count": null,
   "id": "ae881c38",
   "metadata": {},
   "outputs": [],
   "source": []
  }
 ],
 "metadata": {
  "kernelspec": {
   "display_name": "Python 3 (ipykernel)",
   "language": "python",
   "name": "python3"
  },
  "language_info": {
   "codemirror_mode": {
    "name": "ipython",
    "version": 3
   },
   "file_extension": ".py",
   "mimetype": "text/x-python",
   "name": "python",
   "nbconvert_exporter": "python",
   "pygments_lexer": "ipython3",
   "version": "3.10.7"
  }
 },
 "nbformat": 4,
 "nbformat_minor": 5
}
