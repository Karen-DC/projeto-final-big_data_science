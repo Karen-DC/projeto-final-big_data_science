{
 "cells": [
  {
   "cell_type": "markdown",
   "id": "e7542642",
   "metadata": {},
   "source": [
    "## Projeto Final - Big Data Science\n",
    "\n",
    "Este notebook tem por objetivo a análise dos microdados do Enem 2021, tendo como foco a comparação do desempenho entre alunos oriundos de escola pública e privada.\n",
    "\n",
    "Autora: Karen Dantas C.\n"
   ]
  },
  {
   "cell_type": "code",
   "execution_count": 1,
   "id": "379cb469",
   "metadata": {},
   "outputs": [],
   "source": [
    "\n",
    "import pandas as pd\n",
    "import seaborn as sns\n"
   ]
  },
  {
   "cell_type": "markdown",
   "id": "f79feb01",
   "metadata": {},
   "source": [
    "<h3> Leitura dos dados </h3>"
   ]
  },
  {
   "cell_type": "code",
   "execution_count": 2,
   "id": "f3eaae86",
   "metadata": {},
   "outputs": [
    {
     "data": {
      "text/html": [
       "<div>\n",
       "<style scoped>\n",
       "    .dataframe tbody tr th:only-of-type {\n",
       "        vertical-align: middle;\n",
       "    }\n",
       "\n",
       "    .dataframe tbody tr th {\n",
       "        vertical-align: top;\n",
       "    }\n",
       "\n",
       "    .dataframe thead th {\n",
       "        text-align: right;\n",
       "    }\n",
       "</style>\n",
       "<table border=\"1\" class=\"dataframe\">\n",
       "  <thead>\n",
       "    <tr style=\"text-align: right;\">\n",
       "      <th></th>\n",
       "      <th>TP_FAIXA_ETARIA</th>\n",
       "      <th>TP_SEXO</th>\n",
       "      <th>TP_ESTADO_CIVIL</th>\n",
       "      <th>TP_COR_RACA</th>\n",
       "      <th>TP_NACIONALIDADE</th>\n",
       "      <th>TP_ST_CONCLUSAO</th>\n",
       "      <th>TP_ESCOLA</th>\n",
       "      <th>SG_UF_PROVA</th>\n",
       "      <th>NU_NOTA_CN</th>\n",
       "      <th>NU_NOTA_CH</th>\n",
       "      <th>NU_NOTA_LC</th>\n",
       "      <th>NU_NOTA_MT</th>\n",
       "      <th>NU_NOTA_REDACAO</th>\n",
       "    </tr>\n",
       "  </thead>\n",
       "  <tbody>\n",
       "    <tr>\n",
       "      <th>0</th>\n",
       "      <td>5</td>\n",
       "      <td>F</td>\n",
       "      <td>1</td>\n",
       "      <td>1</td>\n",
       "      <td>1</td>\n",
       "      <td>1</td>\n",
       "      <td>1</td>\n",
       "      <td>MG</td>\n",
       "      <td>NaN</td>\n",
       "      <td>574.6</td>\n",
       "      <td>472.6</td>\n",
       "      <td>NaN</td>\n",
       "      <td>760.0</td>\n",
       "    </tr>\n",
       "    <tr>\n",
       "      <th>1</th>\n",
       "      <td>12</td>\n",
       "      <td>M</td>\n",
       "      <td>1</td>\n",
       "      <td>1</td>\n",
       "      <td>1</td>\n",
       "      <td>1</td>\n",
       "      <td>1</td>\n",
       "      <td>AL</td>\n",
       "      <td>505.9</td>\n",
       "      <td>551.8</td>\n",
       "      <td>498.3</td>\n",
       "      <td>461.5</td>\n",
       "      <td>560.0</td>\n",
       "    </tr>\n",
       "    <tr>\n",
       "      <th>2</th>\n",
       "      <td>13</td>\n",
       "      <td>F</td>\n",
       "      <td>3</td>\n",
       "      <td>1</td>\n",
       "      <td>1</td>\n",
       "      <td>1</td>\n",
       "      <td>1</td>\n",
       "      <td>SP</td>\n",
       "      <td>NaN</td>\n",
       "      <td>NaN</td>\n",
       "      <td>NaN</td>\n",
       "      <td>NaN</td>\n",
       "      <td>NaN</td>\n",
       "    </tr>\n",
       "    <tr>\n",
       "      <th>3</th>\n",
       "      <td>3</td>\n",
       "      <td>M</td>\n",
       "      <td>1</td>\n",
       "      <td>3</td>\n",
       "      <td>1</td>\n",
       "      <td>2</td>\n",
       "      <td>2</td>\n",
       "      <td>CE</td>\n",
       "      <td>580.7</td>\n",
       "      <td>678.9</td>\n",
       "      <td>638.9</td>\n",
       "      <td>659.5</td>\n",
       "      <td>780.0</td>\n",
       "    </tr>\n",
       "    <tr>\n",
       "      <th>4</th>\n",
       "      <td>2</td>\n",
       "      <td>F</td>\n",
       "      <td>1</td>\n",
       "      <td>3</td>\n",
       "      <td>1</td>\n",
       "      <td>2</td>\n",
       "      <td>2</td>\n",
       "      <td>CE</td>\n",
       "      <td>497.7</td>\n",
       "      <td>532.4</td>\n",
       "      <td>457.6</td>\n",
       "      <td>582.6</td>\n",
       "      <td>780.0</td>\n",
       "    </tr>\n",
       "  </tbody>\n",
       "</table>\n",
       "</div>"
      ],
      "text/plain": [
       "   TP_FAIXA_ETARIA TP_SEXO  TP_ESTADO_CIVIL  TP_COR_RACA  TP_NACIONALIDADE  \\\n",
       "0                5       F                1            1                 1   \n",
       "1               12       M                1            1                 1   \n",
       "2               13       F                3            1                 1   \n",
       "3                3       M                1            3                 1   \n",
       "4                2       F                1            3                 1   \n",
       "\n",
       "   TP_ST_CONCLUSAO  TP_ESCOLA SG_UF_PROVA  NU_NOTA_CN  NU_NOTA_CH  NU_NOTA_LC  \\\n",
       "0                1          1          MG         NaN       574.6       472.6   \n",
       "1                1          1          AL       505.9       551.8       498.3   \n",
       "2                1          1          SP         NaN         NaN         NaN   \n",
       "3                2          2          CE       580.7       678.9       638.9   \n",
       "4                2          2          CE       497.7       532.4       457.6   \n",
       "\n",
       "   NU_NOTA_MT  NU_NOTA_REDACAO  \n",
       "0         NaN            760.0  \n",
       "1       461.5            560.0  \n",
       "2         NaN              NaN  \n",
       "3       659.5            780.0  \n",
       "4       582.6            780.0  "
      ]
     },
     "execution_count": 2,
     "metadata": {},
     "output_type": "execute_result"
    }
   ],
   "source": [
    "\n",
    "df = pd.read_csv(\"MICRODADOS_ENEM_2021.csv\", sep=';', usecols=['TP_ST_CONCLUSAO','TP_ESCOLA','SG_UF_PROVA',\n",
    "                                                               'NU_NOTA_CN','NU_NOTA_CH','NU_NOTA_LC',\n",
    "                                                               'NU_NOTA_MT','NU_NOTA_REDACAO','TP_FAIXA_ETARIA','TP_SEXO',\n",
    "                                                               'TP_COR_RACA','TP_ESTADO_CIVIL','TP_NACIONALIDADE'])\n",
    "df.head()\n"
   ]
  },
  {
   "cell_type": "code",
   "execution_count": 3,
   "id": "6b4f847c",
   "metadata": {},
   "outputs": [
    {
     "data": {
      "text/plain": [
       "TP_FAIXA_ETARIA     3389832\n",
       "TP_SEXO             3389832\n",
       "TP_ESTADO_CIVIL     3389832\n",
       "TP_COR_RACA         3389832\n",
       "TP_NACIONALIDADE    3389832\n",
       "TP_ST_CONCLUSAO     3389832\n",
       "TP_ESCOLA           3389832\n",
       "SG_UF_PROVA         3389832\n",
       "NU_NOTA_CN          2245844\n",
       "NU_NOTA_CH          2378379\n",
       "NU_NOTA_LC          2378379\n",
       "NU_NOTA_MT          2245844\n",
       "NU_NOTA_REDACAO     2378379\n",
       "dtype: int64"
      ]
     },
     "execution_count": 3,
     "metadata": {},
     "output_type": "execute_result"
    }
   ],
   "source": [
    "\n",
    "df.count()\n"
   ]
  },
  {
   "cell_type": "markdown",
   "id": "d6cca18f",
   "metadata": {},
   "source": [
    "<h3> Limpeza dos dados </h3>"
   ]
  },
  {
   "cell_type": "code",
   "execution_count": 4,
   "id": "4962855e",
   "metadata": {},
   "outputs": [
    {
     "data": {
      "text/plain": [
       "TP_FAIXA_ETARIA           0\n",
       "TP_SEXO                   0\n",
       "TP_ESTADO_CIVIL           0\n",
       "TP_COR_RACA               0\n",
       "TP_NACIONALIDADE          0\n",
       "TP_ST_CONCLUSAO           0\n",
       "TP_ESCOLA                 0\n",
       "SG_UF_PROVA               0\n",
       "NU_NOTA_CN          1143988\n",
       "NU_NOTA_CH          1011453\n",
       "NU_NOTA_LC          1011453\n",
       "NU_NOTA_MT          1143988\n",
       "NU_NOTA_REDACAO     1011453\n",
       "dtype: int64"
      ]
     },
     "execution_count": 4,
     "metadata": {},
     "output_type": "execute_result"
    }
   ],
   "source": [
    "\n",
    "df.isnull().sum()\n"
   ]
  },
  {
   "cell_type": "code",
   "execution_count": 5,
   "id": "e89ebe7d",
   "metadata": {},
   "outputs": [
    {
     "data": {
      "text/plain": [
       "TP_FAIXA_ETARIA     0\n",
       "TP_SEXO             0\n",
       "TP_ESTADO_CIVIL     0\n",
       "TP_COR_RACA         0\n",
       "TP_NACIONALIDADE    0\n",
       "TP_ST_CONCLUSAO     0\n",
       "TP_ESCOLA           0\n",
       "SG_UF_PROVA         0\n",
       "NU_NOTA_CN          0\n",
       "NU_NOTA_CH          0\n",
       "NU_NOTA_LC          0\n",
       "NU_NOTA_MT          0\n",
       "NU_NOTA_REDACAO     0\n",
       "dtype: int64"
      ]
     },
     "execution_count": 5,
     "metadata": {},
     "output_type": "execute_result"
    }
   ],
   "source": [
    "#Deletar registros com valores nulos\n",
    "\n",
    "df = df.dropna()\n",
    "df.isnull().sum()\n",
    "    "
   ]
  },
  {
   "cell_type": "code",
   "execution_count": 6,
   "id": "c163b2eb",
   "metadata": {},
   "outputs": [
    {
     "data": {
      "text/plain": [
       "TP_FAIXA_ETARIA     2238107\n",
       "TP_SEXO             2238107\n",
       "TP_ESTADO_CIVIL     2238107\n",
       "TP_COR_RACA         2238107\n",
       "TP_NACIONALIDADE    2238107\n",
       "TP_ST_CONCLUSAO     2238107\n",
       "TP_ESCOLA           2238107\n",
       "SG_UF_PROVA         2238107\n",
       "NU_NOTA_CN          2238107\n",
       "NU_NOTA_CH          2238107\n",
       "NU_NOTA_LC          2238107\n",
       "NU_NOTA_MT          2238107\n",
       "NU_NOTA_REDACAO     2238107\n",
       "dtype: int64"
      ]
     },
     "execution_count": 6,
     "metadata": {},
     "output_type": "execute_result"
    }
   ],
   "source": [
    "\n",
    "df.count()\n"
   ]
  },
  {
   "cell_type": "code",
   "execution_count": 7,
   "id": "8c0c561d",
   "metadata": {},
   "outputs": [
    {
     "data": {
      "text/html": [
       "<div>\n",
       "<style scoped>\n",
       "    .dataframe tbody tr th:only-of-type {\n",
       "        vertical-align: middle;\n",
       "    }\n",
       "\n",
       "    .dataframe tbody tr th {\n",
       "        vertical-align: top;\n",
       "    }\n",
       "\n",
       "    .dataframe thead th {\n",
       "        text-align: right;\n",
       "    }\n",
       "</style>\n",
       "<table border=\"1\" class=\"dataframe\">\n",
       "  <thead>\n",
       "    <tr style=\"text-align: right;\">\n",
       "      <th></th>\n",
       "      <th>TP_FAIXA_ETARIA</th>\n",
       "      <th>TP_SEXO</th>\n",
       "      <th>TP_ESTADO_CIVIL</th>\n",
       "      <th>TP_COR_RACA</th>\n",
       "      <th>TP_NACIONALIDADE</th>\n",
       "      <th>TP_ST_CONCLUSAO</th>\n",
       "      <th>TP_ESCOLA</th>\n",
       "      <th>SG_UF_PROVA</th>\n",
       "      <th>NU_NOTA_CN</th>\n",
       "      <th>NU_NOTA_CH</th>\n",
       "      <th>NU_NOTA_LC</th>\n",
       "      <th>NU_NOTA_MT</th>\n",
       "      <th>NU_NOTA_REDACAO</th>\n",
       "    </tr>\n",
       "  </thead>\n",
       "  <tbody>\n",
       "    <tr>\n",
       "      <th>1</th>\n",
       "      <td>12</td>\n",
       "      <td>M</td>\n",
       "      <td>1</td>\n",
       "      <td>1</td>\n",
       "      <td>1</td>\n",
       "      <td>1</td>\n",
       "      <td>1</td>\n",
       "      <td>AL</td>\n",
       "      <td>505.9</td>\n",
       "      <td>551.8</td>\n",
       "      <td>498.3</td>\n",
       "      <td>461.5</td>\n",
       "      <td>560.0</td>\n",
       "    </tr>\n",
       "    <tr>\n",
       "      <th>3</th>\n",
       "      <td>3</td>\n",
       "      <td>M</td>\n",
       "      <td>1</td>\n",
       "      <td>3</td>\n",
       "      <td>1</td>\n",
       "      <td>2</td>\n",
       "      <td>2</td>\n",
       "      <td>CE</td>\n",
       "      <td>580.7</td>\n",
       "      <td>678.9</td>\n",
       "      <td>638.9</td>\n",
       "      <td>659.5</td>\n",
       "      <td>780.0</td>\n",
       "    </tr>\n",
       "    <tr>\n",
       "      <th>4</th>\n",
       "      <td>2</td>\n",
       "      <td>F</td>\n",
       "      <td>1</td>\n",
       "      <td>3</td>\n",
       "      <td>1</td>\n",
       "      <td>2</td>\n",
       "      <td>2</td>\n",
       "      <td>CE</td>\n",
       "      <td>497.7</td>\n",
       "      <td>532.4</td>\n",
       "      <td>457.6</td>\n",
       "      <td>582.6</td>\n",
       "      <td>780.0</td>\n",
       "    </tr>\n",
       "    <tr>\n",
       "      <th>8</th>\n",
       "      <td>8</td>\n",
       "      <td>F</td>\n",
       "      <td>1</td>\n",
       "      <td>3</td>\n",
       "      <td>1</td>\n",
       "      <td>2</td>\n",
       "      <td>2</td>\n",
       "      <td>MG</td>\n",
       "      <td>487.4</td>\n",
       "      <td>476.5</td>\n",
       "      <td>450.7</td>\n",
       "      <td>493.4</td>\n",
       "      <td>520.0</td>\n",
       "    </tr>\n",
       "    <tr>\n",
       "      <th>9</th>\n",
       "      <td>4</td>\n",
       "      <td>F</td>\n",
       "      <td>1</td>\n",
       "      <td>3</td>\n",
       "      <td>1</td>\n",
       "      <td>2</td>\n",
       "      <td>2</td>\n",
       "      <td>BA</td>\n",
       "      <td>507.6</td>\n",
       "      <td>539.2</td>\n",
       "      <td>494.6</td>\n",
       "      <td>413.3</td>\n",
       "      <td>380.0</td>\n",
       "    </tr>\n",
       "  </tbody>\n",
       "</table>\n",
       "</div>"
      ],
      "text/plain": [
       "   TP_FAIXA_ETARIA TP_SEXO  TP_ESTADO_CIVIL  TP_COR_RACA  TP_NACIONALIDADE  \\\n",
       "1               12       M                1            1                 1   \n",
       "3                3       M                1            3                 1   \n",
       "4                2       F                1            3                 1   \n",
       "8                8       F                1            3                 1   \n",
       "9                4       F                1            3                 1   \n",
       "\n",
       "   TP_ST_CONCLUSAO  TP_ESCOLA SG_UF_PROVA  NU_NOTA_CN  NU_NOTA_CH  NU_NOTA_LC  \\\n",
       "1                1          1          AL       505.9       551.8       498.3   \n",
       "3                2          2          CE       580.7       678.9       638.9   \n",
       "4                2          2          CE       497.7       532.4       457.6   \n",
       "8                2          2          MG       487.4       476.5       450.7   \n",
       "9                2          2          BA       507.6       539.2       494.6   \n",
       "\n",
       "   NU_NOTA_MT  NU_NOTA_REDACAO  \n",
       "1       461.5            560.0  \n",
       "3       659.5            780.0  \n",
       "4       582.6            780.0  \n",
       "8       493.4            520.0  \n",
       "9       413.3            380.0  "
      ]
     },
     "execution_count": 7,
     "metadata": {},
     "output_type": "execute_result"
    }
   ],
   "source": [
    "\n",
    "df.head()\n"
   ]
  },
  {
   "cell_type": "code",
   "execution_count": 8,
   "id": "eb8bbd2a",
   "metadata": {},
   "outputs": [],
   "source": [
    "#Selecionar as pessoas que já concluíram o ensino médio, ou que estavam cursando o ensino médio e concluiriam em 2021\n",
    "\n",
    "filtro_ensino_medio = ((df['TP_ST_CONCLUSAO'] == 1) | (df['TP_ST_CONCLUSAO'] == 2))\n",
    "\n",
    "df = df[filtro_ensino_medio]\n"
   ]
  },
  {
   "cell_type": "code",
   "execution_count": 9,
   "id": "dab54051",
   "metadata": {},
   "outputs": [
    {
     "data": {
      "text/plain": [
       "TP_FAIXA_ETARIA     1864224\n",
       "TP_SEXO             1864224\n",
       "TP_ESTADO_CIVIL     1864224\n",
       "TP_COR_RACA         1864224\n",
       "TP_NACIONALIDADE    1864224\n",
       "TP_ST_CONCLUSAO     1864224\n",
       "TP_ESCOLA           1864224\n",
       "SG_UF_PROVA         1864224\n",
       "NU_NOTA_CN          1864224\n",
       "NU_NOTA_CH          1864224\n",
       "NU_NOTA_LC          1864224\n",
       "NU_NOTA_MT          1864224\n",
       "NU_NOTA_REDACAO     1864224\n",
       "dtype: int64"
      ]
     },
     "execution_count": 9,
     "metadata": {},
     "output_type": "execute_result"
    }
   ],
   "source": [
    "\n",
    "df.count()\n"
   ]
  },
  {
   "cell_type": "code",
   "execution_count": 10,
   "id": "3c6d9435",
   "metadata": {},
   "outputs": [],
   "source": [
    "#Excluir as pessoas que não informaram se são de escola particular ou pública\n",
    "\n",
    "filtro_escola = (df['TP_ESCOLA'] != 1)\n",
    "dados = df[filtro_escola].copy()\n"
   ]
  },
  {
   "cell_type": "code",
   "execution_count": 11,
   "id": "6e69ae2f",
   "metadata": {
    "scrolled": false
   },
   "outputs": [
    {
     "data": {
      "text/plain": [
       "TP_FAIXA_ETARIA     847397\n",
       "TP_SEXO             847397\n",
       "TP_ESTADO_CIVIL     847397\n",
       "TP_COR_RACA         847397\n",
       "TP_NACIONALIDADE    847397\n",
       "TP_ST_CONCLUSAO     847397\n",
       "TP_ESCOLA           847397\n",
       "SG_UF_PROVA         847397\n",
       "NU_NOTA_CN          847397\n",
       "NU_NOTA_CH          847397\n",
       "NU_NOTA_LC          847397\n",
       "NU_NOTA_MT          847397\n",
       "NU_NOTA_REDACAO     847397\n",
       "dtype: int64"
      ]
     },
     "execution_count": 11,
     "metadata": {},
     "output_type": "execute_result"
    }
   ],
   "source": [
    "\n",
    "dados.count()\n"
   ]
  },
  {
   "cell_type": "markdown",
   "id": "e4863bc8",
   "metadata": {},
   "source": [
    "<h3> Análise Descritiva </h3>"
   ]
  },
  {
   "cell_type": "markdown",
   "id": "98ea7375",
   "metadata": {},
   "source": [
    "Em relação aos dados, estão sendo consideradas as pessoas que:\n",
    "* Já concluíram o ensino médio, ou que estavam cursando o ensino médio e concluiriam em 2021;\n",
    "* Informaram se cursaram o ensino médio em escola pública ou privada;\n",
    "* Fizeram todas as provas do Enem 2021 (Linguagens, Códigos e suas tecnologias; Redação; Ciências Humanas e suas tecnologias; Ciências da Natureza e suas tecnologias; Matemática e suas tecnologias)."
   ]
  },
  {
   "cell_type": "code",
   "execution_count": 12,
   "id": "be8221f2",
   "metadata": {},
   "outputs": [],
   "source": [
    "\n",
    "dados[\"TP_ESCOLA\"] = dados[\"TP_ESCOLA\"].map({ 2 : 'Pública', 3 : 'Privada'})\n"
   ]
  },
  {
   "cell_type": "code",
   "execution_count": 13,
   "id": "5f5bad0d",
   "metadata": {},
   "outputs": [],
   "source": [
    "\n",
    "dados[\"TP_FAIXA_ETARIA\"] = dados[\"TP_FAIXA_ETARIA\"].map({ 1 : 'Menor de 17 anos', 2 : '17 anos', 3 : '18 anos', \n",
    "                                                         4 : '19 anos', 5 : '20 anos', 6 : '21 anos', 7 : '22 anos',\n",
    "                                                        8 : '23 anos', 9 : '24 anos', 10 : '25 anos', \n",
    "                                                         11 : 'Entre 26 e 30 anos', 12 : 'Entre 31 e 35 anos',\n",
    "                                                         13 : 'Entre 36 e 40 anos', 14 : 'Entre 41 e 45 anos',\n",
    "                                                         15 : 'Entre 46 e 50 anos', 16: 'Entre 51 e 55 anos',\n",
    "                                                         17 : 'Entre 56 e 60 anos', 18 : 'Entre 61 e 65 anos',\n",
    "                                                         19 : 'Entre 66 e 70 anos', 20 : 'Maior de 70 anos'})\n"
   ]
  },
  {
   "cell_type": "code",
   "execution_count": 14,
   "id": "d6a662f1",
   "metadata": {},
   "outputs": [],
   "source": [
    "\n",
    "dados[\"TP_SEXO\"] = dados[\"TP_SEXO\"].map({ 'F' : 'Feminino', 'M' : 'Masculino'}) \n"
   ]
  },
  {
   "cell_type": "code",
   "execution_count": 15,
   "id": "72d251c5",
   "metadata": {},
   "outputs": [],
   "source": [
    "\n",
    "dados[\"TP_COR_RACA\"] = dados[\"TP_COR_RACA\"].map({ 0 : 'Não declarado', 1 : 'Branca', 2 : 'Preta', 3 : 'Parda', \n",
    "                                                 4 : 'Amarela', 5 : 'Indígena', 6 : 'Não dispõe da informação'}) \n"
   ]
  },
  {
   "cell_type": "code",
   "execution_count": 16,
   "id": "1e02e994",
   "metadata": {},
   "outputs": [],
   "source": [
    "\n",
    "dados[\"TP_NACIONALIDADE\"] = dados[\"TP_NACIONALIDADE\"].map({ 0 : 'Não informado', 1 : 'Brasileiro(a)', \n",
    "                                                           2 : 'Brasileiro(a) Naturalizado(a)', 3 : 'Estrangeiro(a)', \n",
    "                                                           4 : 'Brasileiro(a) Nato(a), nascido(a) no exterior'}) \n"
   ]
  },
  {
   "cell_type": "code",
   "execution_count": 17,
   "id": "89c084ef",
   "metadata": {
    "scrolled": true
   },
   "outputs": [
    {
     "data": {
      "text/html": [
       "<div>\n",
       "<style scoped>\n",
       "    .dataframe tbody tr th:only-of-type {\n",
       "        vertical-align: middle;\n",
       "    }\n",
       "\n",
       "    .dataframe tbody tr th {\n",
       "        vertical-align: top;\n",
       "    }\n",
       "\n",
       "    .dataframe thead th {\n",
       "        text-align: right;\n",
       "    }\n",
       "</style>\n",
       "<table border=\"1\" class=\"dataframe\">\n",
       "  <thead>\n",
       "    <tr style=\"text-align: right;\">\n",
       "      <th></th>\n",
       "      <th>TP_FAIXA_ETARIA</th>\n",
       "      <th>TP_SEXO</th>\n",
       "      <th>TP_ESTADO_CIVIL</th>\n",
       "      <th>TP_COR_RACA</th>\n",
       "      <th>TP_NACIONALIDADE</th>\n",
       "      <th>TP_ST_CONCLUSAO</th>\n",
       "      <th>TP_ESCOLA</th>\n",
       "      <th>SG_UF_PROVA</th>\n",
       "      <th>NU_NOTA_CN</th>\n",
       "      <th>NU_NOTA_CH</th>\n",
       "      <th>NU_NOTA_LC</th>\n",
       "      <th>NU_NOTA_MT</th>\n",
       "      <th>NU_NOTA_REDACAO</th>\n",
       "    </tr>\n",
       "  </thead>\n",
       "  <tbody>\n",
       "    <tr>\n",
       "      <th>3</th>\n",
       "      <td>18 anos</td>\n",
       "      <td>Masculino</td>\n",
       "      <td>1</td>\n",
       "      <td>Parda</td>\n",
       "      <td>Brasileiro(a)</td>\n",
       "      <td>2</td>\n",
       "      <td>Pública</td>\n",
       "      <td>CE</td>\n",
       "      <td>580.7</td>\n",
       "      <td>678.9</td>\n",
       "      <td>638.9</td>\n",
       "      <td>659.5</td>\n",
       "      <td>780.0</td>\n",
       "    </tr>\n",
       "    <tr>\n",
       "      <th>4</th>\n",
       "      <td>17 anos</td>\n",
       "      <td>Feminino</td>\n",
       "      <td>1</td>\n",
       "      <td>Parda</td>\n",
       "      <td>Brasileiro(a)</td>\n",
       "      <td>2</td>\n",
       "      <td>Pública</td>\n",
       "      <td>CE</td>\n",
       "      <td>497.7</td>\n",
       "      <td>532.4</td>\n",
       "      <td>457.6</td>\n",
       "      <td>582.6</td>\n",
       "      <td>780.0</td>\n",
       "    </tr>\n",
       "    <tr>\n",
       "      <th>8</th>\n",
       "      <td>23 anos</td>\n",
       "      <td>Feminino</td>\n",
       "      <td>1</td>\n",
       "      <td>Parda</td>\n",
       "      <td>Brasileiro(a)</td>\n",
       "      <td>2</td>\n",
       "      <td>Pública</td>\n",
       "      <td>MG</td>\n",
       "      <td>487.4</td>\n",
       "      <td>476.5</td>\n",
       "      <td>450.7</td>\n",
       "      <td>493.4</td>\n",
       "      <td>520.0</td>\n",
       "    </tr>\n",
       "    <tr>\n",
       "      <th>9</th>\n",
       "      <td>19 anos</td>\n",
       "      <td>Feminino</td>\n",
       "      <td>1</td>\n",
       "      <td>Parda</td>\n",
       "      <td>Brasileiro(a)</td>\n",
       "      <td>2</td>\n",
       "      <td>Pública</td>\n",
       "      <td>BA</td>\n",
       "      <td>507.6</td>\n",
       "      <td>539.2</td>\n",
       "      <td>494.6</td>\n",
       "      <td>413.3</td>\n",
       "      <td>380.0</td>\n",
       "    </tr>\n",
       "    <tr>\n",
       "      <th>11</th>\n",
       "      <td>17 anos</td>\n",
       "      <td>Feminino</td>\n",
       "      <td>1</td>\n",
       "      <td>Branca</td>\n",
       "      <td>Brasileiro(a)</td>\n",
       "      <td>2</td>\n",
       "      <td>Pública</td>\n",
       "      <td>RN</td>\n",
       "      <td>378.5</td>\n",
       "      <td>502.7</td>\n",
       "      <td>487.7</td>\n",
       "      <td>514.9</td>\n",
       "      <td>680.0</td>\n",
       "    </tr>\n",
       "  </tbody>\n",
       "</table>\n",
       "</div>"
      ],
      "text/plain": [
       "   TP_FAIXA_ETARIA    TP_SEXO  TP_ESTADO_CIVIL TP_COR_RACA TP_NACIONALIDADE  \\\n",
       "3          18 anos  Masculino                1       Parda    Brasileiro(a)   \n",
       "4          17 anos   Feminino                1       Parda    Brasileiro(a)   \n",
       "8          23 anos   Feminino                1       Parda    Brasileiro(a)   \n",
       "9          19 anos   Feminino                1       Parda    Brasileiro(a)   \n",
       "11         17 anos   Feminino                1      Branca    Brasileiro(a)   \n",
       "\n",
       "    TP_ST_CONCLUSAO TP_ESCOLA SG_UF_PROVA  NU_NOTA_CN  NU_NOTA_CH  NU_NOTA_LC  \\\n",
       "3                 2   Pública          CE       580.7       678.9       638.9   \n",
       "4                 2   Pública          CE       497.7       532.4       457.6   \n",
       "8                 2   Pública          MG       487.4       476.5       450.7   \n",
       "9                 2   Pública          BA       507.6       539.2       494.6   \n",
       "11                2   Pública          RN       378.5       502.7       487.7   \n",
       "\n",
       "    NU_NOTA_MT  NU_NOTA_REDACAO  \n",
       "3        659.5            780.0  \n",
       "4        582.6            780.0  \n",
       "8        493.4            520.0  \n",
       "9        413.3            380.0  \n",
       "11       514.9            680.0  "
      ]
     },
     "execution_count": 17,
     "metadata": {},
     "output_type": "execute_result"
    }
   ],
   "source": [
    "\n",
    "dados.head()\n"
   ]
  },
  {
   "cell_type": "markdown",
   "id": "57a6bb0f",
   "metadata": {},
   "source": [
    "<h4>Análise das características gerais da amostra </h4>"
   ]
  },
  {
   "cell_type": "code",
   "execution_count": 18,
   "id": "66b756e6",
   "metadata": {},
   "outputs": [
    {
     "data": {
      "text/plain": [
       "<AxesSubplot: title={'center': 'Tipo de Escola'}, ylabel='TP_ESCOLA'>"
      ]
     },
     "execution_count": 18,
     "metadata": {},
     "output_type": "execute_result"
    },
    {
     "data": {
      "image/png": "[encoded data removed]",
      "text/plain": [
       "<Figure size 640x480 with 1 Axes>"
      ]
     },
     "metadata": {},
     "output_type": "display_data"
    }
   ],
   "source": [
    "\n",
    "dados['TP_ESCOLA'].value_counts(normalize=True).plot(kind='pie', autopct='%.2f%%', title='Tipo de Escola')\n"
   ]
  },
  {
   "cell_type": "code",
   "execution_count": 19,
   "id": "ddda1aae",
   "metadata": {},
   "outputs": [
    {
     "data": {
      "text/plain": [
       "<AxesSubplot: title={'center': 'Sexo'}, ylabel='TP_SEXO'>"
      ]
     },
     "execution_count": 19,
     "metadata": {},
     "output_type": "execute_result"
    },
    {
     "data": {
      "image/png": "[encoded data removed]",
      "text/plain": [
       "<Figure size 640x480 with 1 Axes>"
      ]
     },
     "metadata": {},
     "output_type": "display_data"
    }
   ],
   "source": [
    "\n",
    "dados['TP_SEXO'].value_counts(normalize=True).plot(kind='pie', autopct='%.2f%%', title='Sexo')\n"
   ]
  },
  {
   "cell_type": "code",
   "execution_count": 20,
   "id": "7a281e11",
   "metadata": {},
   "outputs": [
    {
     "data": {
      "text/plain": [
       "Branca           45.297305\n",
       "Parda            39.981732\n",
       "Preta            10.176576\n",
       "Não declarado     2.095476\n",
       "Amarela           1.973455\n",
       "Indígena          0.475456\n",
       "Name: TP_COR_RACA, dtype: float64"
      ]
     },
     "execution_count": 20,
     "metadata": {},
     "output_type": "execute_result"
    }
   ],
   "source": [
    "\n",
    "dados['TP_COR_RACA'].value_counts(normalize=True)*100\n"
   ]
  },
  {
   "cell_type": "code",
   "execution_count": 21,
   "id": "21e2292f",
   "metadata": {},
   "outputs": [
    {
     "data": {
      "text/plain": [
       "<AxesSubplot: title={'center': 'Raça'}, ylabel='(em %)'>"
      ]
     },
     "execution_count": 21,
     "metadata": {},
     "output_type": "execute_result"
    },
    {
     "data": {
      "image/png": "[encoded data removed]",
      "text/plain": [
       "<Figure size 640x480 with 1 Axes>"
      ]
     },
     "metadata": {},
     "output_type": "display_data"
    }
   ],
   "source": [
    "\n",
    "(dados['TP_COR_RACA'].value_counts(normalize=True)*100).plot(kind='bar', title='Raça', ylabel='(em %)')\n"
   ]
  },
  {
   "cell_type": "code",
   "execution_count": 22,
   "id": "5a7e6af9",
   "metadata": {},
   "outputs": [
    {
     "data": {
      "text/plain": [
       "SP    17.346887\n",
       "MG     8.707371\n",
       "CE     8.294577\n",
       "BA     7.537907\n",
       "RJ     6.943381\n",
       "PE     5.391216\n",
       "PR     5.262704\n",
       "RS     4.537661\n",
       "GO     4.380119\n",
       "PA     3.912334\n",
       "MA     3.131944\n",
       "SC     3.042730\n",
       "AM     2.532225\n",
       "PB     2.446905\n",
       "ES     2.117661\n",
       "DF     2.067390\n",
       "PI     2.013696\n",
       "RN     1.937817\n",
       "MT     1.545793\n",
       "AL     1.407723\n",
       "MS     1.345414\n",
       "SE     1.343290\n",
       "TO     0.870902\n",
       "RO     0.829245\n",
       "AC     0.433917\n",
       "AP     0.426601\n",
       "RR     0.192590\n",
       "Name: SG_UF_PROVA, dtype: float64"
      ]
     },
     "execution_count": 22,
     "metadata": {},
     "output_type": "execute_result"
    }
   ],
   "source": [
    "\n",
    "dados['SG_UF_PROVA'].value_counts(normalize=True)*100\n"
   ]
  },
  {
   "cell_type": "code",
   "execution_count": 23,
   "id": "b233efa3",
   "metadata": {},
   "outputs": [
    {
     "data": {
      "text/plain": [
       "17 anos               44.826333\n",
       "18 anos               42.479027\n",
       "19 anos                7.492002\n",
       "20 anos                2.099960\n",
       "Menor de 17 anos       1.186457\n",
       "21 anos                0.641376\n",
       "22 anos                0.264811\n",
       "Entre 26 e 30 anos     0.236725\n",
       "Entre 31 e 35 anos     0.147157\n",
       "23 anos                0.141610\n",
       "Entre 36 e 40 anos     0.110220\n",
       "24 anos                0.104319\n",
       "Entre 41 e 45 anos     0.075643\n",
       "25 anos                0.074345\n",
       "Entre 46 e 50 anos     0.056054\n",
       "Entre 51 e 55 anos     0.035285\n",
       "Entre 56 e 60 anos     0.018645\n",
       "Entre 61 e 65 anos     0.006726\n",
       "Entre 66 e 70 anos     0.002478\n",
       "Maior de 70 anos       0.000826\n",
       "Name: TP_FAIXA_ETARIA, dtype: float64"
      ]
     },
     "execution_count": 23,
     "metadata": {},
     "output_type": "execute_result"
    }
   ],
   "source": [
    "\n",
    "dados['TP_FAIXA_ETARIA'].value_counts(normalize=True)*100\n"
   ]
  },
  {
   "cell_type": "code",
   "execution_count": 24,
   "id": "59d7be80",
   "metadata": {},
   "outputs": [
    {
     "data": {
      "text/plain": [
       "Brasileiro(a)                                    97.554865\n",
       "Brasileiro(a) Naturalizado(a)                     1.965903\n",
       "Brasileiro(a) Nato(a), nascido(a) no exterior     0.241917\n",
       "Estrangeiro(a)                                    0.127449\n",
       "Não informado                                     0.109866\n",
       "Name: TP_NACIONALIDADE, dtype: float64"
      ]
     },
     "execution_count": 24,
     "metadata": {},
     "output_type": "execute_result"
    }
   ],
   "source": [
    "\n",
    "dados['TP_NACIONALIDADE'].value_counts(normalize=True)*100\n"
   ]
  },
  {
   "cell_type": "markdown",
   "id": "9206d5aa",
   "metadata": {},
   "source": [
    "<h4>Análise das Características da amostra </h4>"
   ]
  },
  {
   "cell_type": "code",
   "execution_count": 25,
   "id": "649eebb2",
   "metadata": {},
   "outputs": [],
   "source": [
    "\n",
    "notas = ['NU_NOTA_CN','NU_NOTA_CH','NU_NOTA_LC','NU_NOTA_MT','NU_NOTA_REDACAO']\n"
   ]
  },
  {
   "cell_type": "code",
   "execution_count": 26,
   "id": "791d968b",
   "metadata": {},
   "outputs": [
    {
     "data": {
      "text/html": [
       "<div>\n",
       "<style scoped>\n",
       "    .dataframe tbody tr th:only-of-type {\n",
       "        vertical-align: middle;\n",
       "    }\n",
       "\n",
       "    .dataframe tbody tr th {\n",
       "        vertical-align: top;\n",
       "    }\n",
       "\n",
       "    .dataframe thead th {\n",
       "        text-align: right;\n",
       "    }\n",
       "</style>\n",
       "<table border=\"1\" class=\"dataframe\">\n",
       "  <thead>\n",
       "    <tr style=\"text-align: right;\">\n",
       "      <th></th>\n",
       "      <th>count</th>\n",
       "      <th>mean</th>\n",
       "      <th>std</th>\n",
       "      <th>min</th>\n",
       "      <th>25%</th>\n",
       "      <th>50%</th>\n",
       "      <th>75%</th>\n",
       "      <th>max</th>\n",
       "    </tr>\n",
       "  </thead>\n",
       "  <tbody>\n",
       "    <tr>\n",
       "      <th>NU_NOTA_CN</th>\n",
       "      <td>847397.0</td>\n",
       "      <td>484.17</td>\n",
       "      <td>77.90</td>\n",
       "      <td>0.0</td>\n",
       "      <td>424.9</td>\n",
       "      <td>474.3</td>\n",
       "      <td>536.7</td>\n",
       "      <td>848.7</td>\n",
       "    </tr>\n",
       "    <tr>\n",
       "      <th>NU_NOTA_CH</th>\n",
       "      <td>847397.0</td>\n",
       "      <td>513.07</td>\n",
       "      <td>90.80</td>\n",
       "      <td>0.0</td>\n",
       "      <td>441.9</td>\n",
       "      <td>513.1</td>\n",
       "      <td>579.4</td>\n",
       "      <td>846.9</td>\n",
       "    </tr>\n",
       "    <tr>\n",
       "      <th>NU_NOTA_LC</th>\n",
       "      <td>847397.0</td>\n",
       "      <td>498.15</td>\n",
       "      <td>76.14</td>\n",
       "      <td>0.0</td>\n",
       "      <td>444.8</td>\n",
       "      <td>500.7</td>\n",
       "      <td>552.2</td>\n",
       "      <td>820.5</td>\n",
       "    </tr>\n",
       "    <tr>\n",
       "      <th>NU_NOTA_MT</th>\n",
       "      <td>847397.0</td>\n",
       "      <td>529.69</td>\n",
       "      <td>107.63</td>\n",
       "      <td>0.0</td>\n",
       "      <td>441.9</td>\n",
       "      <td>509.1</td>\n",
       "      <td>605.7</td>\n",
       "      <td>953.1</td>\n",
       "    </tr>\n",
       "    <tr>\n",
       "      <th>NU_NOTA_REDACAO</th>\n",
       "      <td>847397.0</td>\n",
       "      <td>615.04</td>\n",
       "      <td>189.22</td>\n",
       "      <td>0.0</td>\n",
       "      <td>520.0</td>\n",
       "      <td>600.0</td>\n",
       "      <td>740.0</td>\n",
       "      <td>1000.0</td>\n",
       "    </tr>\n",
       "  </tbody>\n",
       "</table>\n",
       "</div>"
      ],
      "text/plain": [
       "                    count    mean     std  min    25%    50%    75%     max\n",
       "NU_NOTA_CN       847397.0  484.17   77.90  0.0  424.9  474.3  536.7   848.7\n",
       "NU_NOTA_CH       847397.0  513.07   90.80  0.0  441.9  513.1  579.4   846.9\n",
       "NU_NOTA_LC       847397.0  498.15   76.14  0.0  444.8  500.7  552.2   820.5\n",
       "NU_NOTA_MT       847397.0  529.69  107.63  0.0  441.9  509.1  605.7   953.1\n",
       "NU_NOTA_REDACAO  847397.0  615.04  189.22  0.0  520.0  600.0  740.0  1000.0"
      ]
     },
     "execution_count": 26,
     "metadata": {},
     "output_type": "execute_result"
    }
   ],
   "source": [
    "\n",
    "dados[notas].describe().round(2).T\n"
   ]
  },
  {
   "cell_type": "code",
   "execution_count": 27,
   "id": "cd25c445",
   "metadata": {},
   "outputs": [],
   "source": [
    "\n",
    "filtro_publica = (dados['TP_ESCOLA'] == 'Pública')\n",
    "dados_publica = dados[filtro_publica].copy()\n"
   ]
  },
  {
   "cell_type": "code",
   "execution_count": 28,
   "id": "2e02456b",
   "metadata": {},
   "outputs": [
    {
     "data": {
      "text/html": [
       "<div>\n",
       "<style scoped>\n",
       "    .dataframe tbody tr th:only-of-type {\n",
       "        vertical-align: middle;\n",
       "    }\n",
       "\n",
       "    .dataframe tbody tr th {\n",
       "        vertical-align: top;\n",
       "    }\n",
       "\n",
       "    .dataframe thead th {\n",
       "        text-align: right;\n",
       "    }\n",
       "</style>\n",
       "<table border=\"1\" class=\"dataframe\">\n",
       "  <thead>\n",
       "    <tr style=\"text-align: right;\">\n",
       "      <th></th>\n",
       "      <th>count</th>\n",
       "      <th>mean</th>\n",
       "      <th>std</th>\n",
       "      <th>min</th>\n",
       "      <th>25%</th>\n",
       "      <th>50%</th>\n",
       "      <th>75%</th>\n",
       "      <th>max</th>\n",
       "    </tr>\n",
       "  </thead>\n",
       "  <tbody>\n",
       "    <tr>\n",
       "      <th>NU_NOTA_CN</th>\n",
       "      <td>668036.0</td>\n",
       "      <td>469.46</td>\n",
       "      <td>69.43</td>\n",
       "      <td>0.0</td>\n",
       "      <td>417.3</td>\n",
       "      <td>461.4</td>\n",
       "      <td>514.6</td>\n",
       "      <td>848.7</td>\n",
       "    </tr>\n",
       "    <tr>\n",
       "      <th>NU_NOTA_CH</th>\n",
       "      <td>668036.0</td>\n",
       "      <td>498.44</td>\n",
       "      <td>85.23</td>\n",
       "      <td>0.0</td>\n",
       "      <td>432.2</td>\n",
       "      <td>496.0</td>\n",
       "      <td>561.3</td>\n",
       "      <td>846.9</td>\n",
       "    </tr>\n",
       "    <tr>\n",
       "      <th>NU_NOTA_LC</th>\n",
       "      <td>668036.0</td>\n",
       "      <td>485.26</td>\n",
       "      <td>72.38</td>\n",
       "      <td>0.0</td>\n",
       "      <td>434.1</td>\n",
       "      <td>487.8</td>\n",
       "      <td>536.8</td>\n",
       "      <td>820.5</td>\n",
       "    </tr>\n",
       "    <tr>\n",
       "      <th>NU_NOTA_MT</th>\n",
       "      <td>668036.0</td>\n",
       "      <td>508.64</td>\n",
       "      <td>95.32</td>\n",
       "      <td>0.0</td>\n",
       "      <td>433.1</td>\n",
       "      <td>488.9</td>\n",
       "      <td>571.5</td>\n",
       "      <td>953.1</td>\n",
       "    </tr>\n",
       "    <tr>\n",
       "      <th>NU_NOTA_REDACAO</th>\n",
       "      <td>668036.0</td>\n",
       "      <td>583.28</td>\n",
       "      <td>185.20</td>\n",
       "      <td>0.0</td>\n",
       "      <td>500.0</td>\n",
       "      <td>580.0</td>\n",
       "      <td>680.0</td>\n",
       "      <td>1000.0</td>\n",
       "    </tr>\n",
       "  </tbody>\n",
       "</table>\n",
       "</div>"
      ],
      "text/plain": [
       "                    count    mean     std  min    25%    50%    75%     max\n",
       "NU_NOTA_CN       668036.0  469.46   69.43  0.0  417.3  461.4  514.6   848.7\n",
       "NU_NOTA_CH       668036.0  498.44   85.23  0.0  432.2  496.0  561.3   846.9\n",
       "NU_NOTA_LC       668036.0  485.26   72.38  0.0  434.1  487.8  536.8   820.5\n",
       "NU_NOTA_MT       668036.0  508.64   95.32  0.0  433.1  488.9  571.5   953.1\n",
       "NU_NOTA_REDACAO  668036.0  583.28  185.20  0.0  500.0  580.0  680.0  1000.0"
      ]
     },
     "execution_count": 28,
     "metadata": {},
     "output_type": "execute_result"
    }
   ],
   "source": [
    "\n",
    "dados_publica[notas].describe().round(2).T\n"
   ]
  },
  {
   "cell_type": "code",
   "execution_count": 29,
   "id": "346cb579",
   "metadata": {},
   "outputs": [],
   "source": [
    "\n",
    "filtro_privada = (dados['TP_ESCOLA'] == 'Privada')\n",
    "dados_privada = dados[filtro_privada].copy()\n"
   ]
  },
  {
   "cell_type": "code",
   "execution_count": 30,
   "id": "fc173f7b",
   "metadata": {},
   "outputs": [
    {
     "data": {
      "text/html": [
       "<div>\n",
       "<style scoped>\n",
       "    .dataframe tbody tr th:only-of-type {\n",
       "        vertical-align: middle;\n",
       "    }\n",
       "\n",
       "    .dataframe tbody tr th {\n",
       "        vertical-align: top;\n",
       "    }\n",
       "\n",
       "    .dataframe thead th {\n",
       "        text-align: right;\n",
       "    }\n",
       "</style>\n",
       "<table border=\"1\" class=\"dataframe\">\n",
       "  <thead>\n",
       "    <tr style=\"text-align: right;\">\n",
       "      <th></th>\n",
       "      <th>count</th>\n",
       "      <th>mean</th>\n",
       "      <th>std</th>\n",
       "      <th>min</th>\n",
       "      <th>25%</th>\n",
       "      <th>50%</th>\n",
       "      <th>75%</th>\n",
       "      <th>max</th>\n",
       "    </tr>\n",
       "  </thead>\n",
       "  <tbody>\n",
       "    <tr>\n",
       "      <th>NU_NOTA_CN</th>\n",
       "      <td>179361.0</td>\n",
       "      <td>538.99</td>\n",
       "      <td>83.08</td>\n",
       "      <td>0.0</td>\n",
       "      <td>477.2</td>\n",
       "      <td>542.5</td>\n",
       "      <td>598.9</td>\n",
       "      <td>844.5</td>\n",
       "    </tr>\n",
       "    <tr>\n",
       "      <th>NU_NOTA_CH</th>\n",
       "      <td>179361.0</td>\n",
       "      <td>567.55</td>\n",
       "      <td>90.16</td>\n",
       "      <td>0.0</td>\n",
       "      <td>510.5</td>\n",
       "      <td>577.3</td>\n",
       "      <td>630.3</td>\n",
       "      <td>846.9</td>\n",
       "    </tr>\n",
       "    <tr>\n",
       "      <th>NU_NOTA_LC</th>\n",
       "      <td>179361.0</td>\n",
       "      <td>546.16</td>\n",
       "      <td>70.41</td>\n",
       "      <td>0.0</td>\n",
       "      <td>502.2</td>\n",
       "      <td>551.8</td>\n",
       "      <td>595.4</td>\n",
       "      <td>799.3</td>\n",
       "    </tr>\n",
       "    <tr>\n",
       "      <th>NU_NOTA_MT</th>\n",
       "      <td>179361.0</td>\n",
       "      <td>608.09</td>\n",
       "      <td>114.45</td>\n",
       "      <td>0.0</td>\n",
       "      <td>519.5</td>\n",
       "      <td>615.6</td>\n",
       "      <td>691.5</td>\n",
       "      <td>953.1</td>\n",
       "    </tr>\n",
       "    <tr>\n",
       "      <th>NU_NOTA_REDACAO</th>\n",
       "      <td>179361.0</td>\n",
       "      <td>733.34</td>\n",
       "      <td>153.80</td>\n",
       "      <td>0.0</td>\n",
       "      <td>620.0</td>\n",
       "      <td>740.0</td>\n",
       "      <td>860.0</td>\n",
       "      <td>1000.0</td>\n",
       "    </tr>\n",
       "  </tbody>\n",
       "</table>\n",
       "</div>"
      ],
      "text/plain": [
       "                    count    mean     std  min    25%    50%    75%     max\n",
       "NU_NOTA_CN       179361.0  538.99   83.08  0.0  477.2  542.5  598.9   844.5\n",
       "NU_NOTA_CH       179361.0  567.55   90.16  0.0  510.5  577.3  630.3   846.9\n",
       "NU_NOTA_LC       179361.0  546.16   70.41  0.0  502.2  551.8  595.4   799.3\n",
       "NU_NOTA_MT       179361.0  608.09  114.45  0.0  519.5  615.6  691.5   953.1\n",
       "NU_NOTA_REDACAO  179361.0  733.34  153.80  0.0  620.0  740.0  860.0  1000.0"
      ]
     },
     "execution_count": 30,
     "metadata": {},
     "output_type": "execute_result"
    }
   ],
   "source": [
    "\n",
    "dados_privada[notas].describe().round(2).T\n"
   ]
  },
  {
   "cell_type": "code",
   "execution_count": 31,
   "id": "68beb033",
   "metadata": {},
   "outputs": [
    {
     "data": {
      "text/plain": [
       "[Text(0.5, 0, 'Tipo de escola'),\n",
       " Text(0, 0.5, 'Nota'),\n",
       " Text(0.5, 1.0, 'Ciências da Natureza e suas tecnologias')]"
      ]
     },
     "execution_count": 31,
     "metadata": {},
     "output_type": "execute_result"
    },
    {
     "data": {
      "image/png": "[encoded data removed]",
      "text/plain": [
       "<Figure size 640x480 with 1 Axes>"
      ]
     },
     "metadata": {},
     "output_type": "display_data"
    }
   ],
   "source": [
    "\n",
    "sns.set_style(\"whitegrid\")\n",
    "grafico = sns.boxplot(y=\"NU_NOTA_CN\",x=\"TP_ESCOLA\",data=dados)\n",
    "grafico.set(xlabel='Tipo de escola', ylabel='Nota',title='Ciências da Natureza e suas tecnologias')\n"
   ]
  },
  {
   "cell_type": "code",
   "execution_count": 32,
   "id": "9ef89752",
   "metadata": {},
   "outputs": [
    {
     "data": {
      "text/plain": [
       "[Text(0.5, 0, 'Tipo de escola'),\n",
       " Text(0, 0.5, 'Nota'),\n",
       " Text(0.5, 1.0, 'Ciências Humanas e suas tecnologias')]"
      ]
     },
     "execution_count": 32,
     "metadata": {},
     "output_type": "execute_result"
    },
    {
     "data": {
      "image/png": "[encoded data removed]",
      "text/plain": [
       "<Figure size 640x480 with 1 Axes>"
      ]
     },
     "metadata": {},
     "output_type": "display_data"
    }
   ],
   "source": [
    "\n",
    "sns.boxplot(y=\"NU_NOTA_CH\",x=\"TP_ESCOLA\",data=dados)\n",
    "\n",
    "grafico = sns.boxplot(y=\"NU_NOTA_CH\",x=\"TP_ESCOLA\",data=dados)\n",
    "grafico.set(xlabel='Tipo de escola', ylabel='Nota',title='Ciências Humanas e suas tecnologias')\n"
   ]
  },
  {
   "cell_type": "code",
   "execution_count": 33,
   "id": "e1fe5908",
   "metadata": {},
   "outputs": [
    {
     "data": {
      "text/plain": [
       "[Text(0.5, 24.0, 'Tipo de escola'),\n",
       " Text(24.000000000000007, 0.5, 'Nota'),\n",
       " Text(0.5, 1.0, 'Linguagens, Códigos e suas tecnologias')]"
      ]
     },
     "execution_count": 33,
     "metadata": {},
     "output_type": "execute_result"
    },
    {
     "data": {
      "image/png": "[encoded data removed]",
      "text/plain": [
       "<Figure size 640x480 with 1 Axes>"
      ]
     },
     "metadata": {},
     "output_type": "display_data"
    }
   ],
   "source": [
    "\n",
    "sns.boxplot(y=\"NU_NOTA_LC\",x=\"TP_ESCOLA\",data=dados)\n",
    "grafico.set(xlabel='Tipo de escola', ylabel='Nota',title='Linguagens, Códigos e suas tecnologias')\n"
   ]
  },
  {
   "cell_type": "code",
   "execution_count": 34,
   "id": "f1a75354",
   "metadata": {},
   "outputs": [
    {
     "data": {
      "text/plain": [
       "[Text(0.5, 24.0, 'Tipo de escola'),\n",
       " Text(24.000000000000007, 0.5, 'Nota'),\n",
       " Text(0.5, 1.0, 'Matemática e suas tecnologias')]"
      ]
     },
     "execution_count": 34,
     "metadata": {},
     "output_type": "execute_result"
    },
    {
     "data": {
      "image/png": "[encoded data removed]",
      "text/plain": [
       "<Figure size 640x480 with 1 Axes>"
      ]
     },
     "metadata": {},
     "output_type": "display_data"
    }
   ],
   "source": [
    "\n",
    "sns.boxplot(y=\"NU_NOTA_MT\",x=\"TP_ESCOLA\",data=dados)\n",
    "grafico.set(xlabel='Tipo de escola', ylabel='Nota',title='Matemática e suas tecnologias')\n"
   ]
  },
  {
   "cell_type": "code",
   "execution_count": 35,
   "id": "daabb1eb",
   "metadata": {},
   "outputs": [
    {
     "data": {
      "text/plain": [
       "[Text(0.5, 24.0, 'Tipo de escola'),\n",
       " Text(24.000000000000007, 0.5, 'Nota'),\n",
       " Text(0.5, 1.0, 'Redação')]"
      ]
     },
     "execution_count": 35,
     "metadata": {},
     "output_type": "execute_result"
    },
    {
     "data": {
      "image/png": "[encoded data removed]",
      "text/plain": [
       "<Figure size 640x480 with 1 Axes>"
      ]
     },
     "metadata": {},
     "output_type": "display_data"
    }
   ],
   "source": [
    "\n",
    "sns.boxplot(y=\"NU_NOTA_REDACAO\",x=\"TP_ESCOLA\",data=dados)\n",
    "grafico.set(xlabel='Tipo de escola', ylabel='Nota',title='Redação')\n"
   ]
  },
  {
   "cell_type": "code",
   "execution_count": null,
   "id": "ae881c38",
   "metadata": {},
   "outputs": [],
   "source": []
  }
 ],
 "metadata": {
  "kernelspec": {
   "display_name": "Python 3 (ipykernel)",
   "language": "python",
   "name": "python3"
  },
  "language_info": {
   "codemirror_mode": {
    "name": "ipython",
    "version": 3
   },
   "file_extension": ".py",
   "mimetype": "text/x-python",
   "name": "python",
   "nbconvert_exporter": "python",
   "pygments_lexer": "ipython3",
   "version": "3.10.7"
  }
 },
 "nbformat": 4,
 "nbformat_minor": 5
}
